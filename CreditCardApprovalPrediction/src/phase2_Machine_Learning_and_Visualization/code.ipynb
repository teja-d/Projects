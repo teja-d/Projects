{
 "cells": [
  {
   "attachments": {},
   "cell_type": "markdown",
   "id": "6966a7a7",
   "metadata": {},
   "source": [
    "## Phase 1"
   ]
  },
  {
   "cell_type": "code",
   "execution_count": 1,
   "id": "8b865094",
   "metadata": {},
   "outputs": [],
   "source": [
    "import pandas as pd\n",
    "import datetime\n",
    "import matplotlib.pyplot as plt\n",
    "import numpy as np\n",
    "\n",
    "import seaborn as sns\n",
    "from scipy.stats import skew"
   ]
  },
  {
   "attachments": {},
   "cell_type": "markdown",
   "id": "a4f07d4d",
   "metadata": {},
   "source": [
    "## Data\n",
    "https://www.kaggle.com/datasets/rikdifos/credit-card-approval-prediction"
   ]
  },
  {
   "cell_type": "code",
   "execution_count": 2,
   "id": "22feb7fe",
   "metadata": {},
   "outputs": [],
   "source": [
    "application_file = r'data/application_record.csv'\n",
    "credit_file = r'data/credit_record.csv'"
   ]
  },
  {
   "cell_type": "code",
   "execution_count": 3,
   "id": "45f9d0db",
   "metadata": {},
   "outputs": [
    {
     "name": "stdout",
     "output_type": "stream",
     "text": [
      "(438557, 18)\n",
      "(1048575, 3)\n"
     ]
    }
   ],
   "source": [
    "df_application = pd.read_csv(application_file)\n",
    "df_credit = pd.read_csv(credit_file)\n",
    "print(df_application.shape)\n",
    "print(df_credit.shape)"
   ]
  },
  {
   "cell_type": "code",
   "execution_count": 4,
   "id": "8eb36348",
   "metadata": {},
   "outputs": [
    {
     "name": "stdout",
     "output_type": "stream",
     "text": [
      "<class 'pandas.core.frame.DataFrame'>\n",
      "RangeIndex: 438557 entries, 0 to 438556\n",
      "Data columns (total 18 columns):\n",
      " #   Column               Non-Null Count   Dtype  \n",
      "---  ------               --------------   -----  \n",
      " 0   ID                   438557 non-null  int64  \n",
      " 1   CODE_GENDER          438557 non-null  object \n",
      " 2   FLAG_OWN_CAR         438557 non-null  object \n",
      " 3   FLAG_OWN_REALTY      438557 non-null  object \n",
      " 4   CNT_CHILDREN         438557 non-null  int64  \n",
      " 5   AMT_INCOME_TOTAL     438557 non-null  float64\n",
      " 6   NAME_INCOME_TYPE     438557 non-null  object \n",
      " 7   NAME_EDUCATION_TYPE  438557 non-null  object \n",
      " 8   NAME_FAMILY_STATUS   438557 non-null  object \n",
      " 9   NAME_HOUSING_TYPE    438557 non-null  object \n",
      " 10  DAYS_BIRTH           438557 non-null  int64  \n",
      " 11  DAYS_EMPLOYED        438557 non-null  int64  \n",
      " 12  FLAG_MOBIL           438557 non-null  int64  \n",
      " 13  FLAG_WORK_PHONE      438557 non-null  int64  \n",
      " 14  FLAG_PHONE           438557 non-null  int64  \n",
      " 15  FLAG_EMAIL           438557 non-null  int64  \n",
      " 16  OCCUPATION_TYPE      304354 non-null  object \n",
      " 17  CNT_FAM_MEMBERS      438557 non-null  float64\n",
      "dtypes: float64(2), int64(8), object(8)\n",
      "memory usage: 60.2+ MB\n"
     ]
    }
   ],
   "source": [
    "df_application.info()"
   ]
  },
  {
   "cell_type": "code",
   "execution_count": 5,
   "id": "c28f22f6",
   "metadata": {},
   "outputs": [
    {
     "name": "stdout",
     "output_type": "stream",
     "text": [
      "<class 'pandas.core.frame.DataFrame'>\n",
      "RangeIndex: 1048575 entries, 0 to 1048574\n",
      "Data columns (total 3 columns):\n",
      " #   Column          Non-Null Count    Dtype \n",
      "---  ------          --------------    ----- \n",
      " 0   ID              1048575 non-null  int64 \n",
      " 1   MONTHS_BALANCE  1048575 non-null  int64 \n",
      " 2   STATUS          1048575 non-null  object\n",
      "dtypes: int64(2), object(1)\n",
      "memory usage: 24.0+ MB\n"
     ]
    }
   ],
   "source": [
    "df_credit.info()"
   ]
  },
  {
   "attachments": {},
   "cell_type": "markdown",
   "id": "b240783f",
   "metadata": {},
   "source": [
    "### 1.Removing duplicates"
   ]
  },
  {
   "cell_type": "code",
   "execution_count": 6,
   "id": "47661ac3",
   "metadata": {},
   "outputs": [],
   "source": [
    "df_application = df_application.drop_duplicates()\n",
    "df_credit = df_credit.drop_duplicates()\n",
    "df_application.reset_index(inplace=True)\n",
    "df_application.drop(columns=['index'],inplace=True)\n",
    "df_credit.reset_index(inplace=True)\n",
    "df_credit.drop(columns=['index'],inplace=True)"
   ]
  },
  {
   "attachments": {},
   "cell_type": "markdown",
   "id": "9a332d0e",
   "metadata": {},
   "source": [
    "### 2.Adding new columns"
   ]
  },
  {
   "cell_type": "code",
   "execution_count": 7,
   "id": "9b5c2817",
   "metadata": {},
   "outputs": [],
   "source": [
    "df_application['AGE'] = (df_application['DAYS_BIRTH'] / -365.25).astype(int)"
   ]
  },
  {
   "cell_type": "code",
   "execution_count": 8,
   "id": "d7611b21",
   "metadata": {},
   "outputs": [
    {
     "data": {
      "text/plain": [
       "count    438557.000000\n",
       "mean         43.295569\n",
       "std          11.459525\n",
       "min          20.000000\n",
       "25%          34.000000\n",
       "50%          42.000000\n",
       "75%          53.000000\n",
       "max          68.000000\n",
       "Name: AGE, dtype: float64"
      ]
     },
     "execution_count": 8,
     "metadata": {},
     "output_type": "execute_result"
    }
   ],
   "source": [
    "df_application['AGE'].describe()"
   ]
  },
  {
   "cell_type": "code",
   "execution_count": 9,
   "id": "ec126542",
   "metadata": {},
   "outputs": [
    {
     "data": {
      "text/plain": [
       "7    NaN\n",
       "Name: OCCUPATION_TYPE, dtype: object"
      ]
     },
     "execution_count": 9,
     "metadata": {},
     "output_type": "execute_result"
    }
   ],
   "source": [
    "df_application.query('DAYS_EMPLOYED==365243')['OCCUPATION_TYPE'].drop_duplicates()"
   ]
  },
  {
   "attachments": {},
   "cell_type": "markdown",
   "id": "64988e4e",
   "metadata": {},
   "source": [
    "### 3.Filtering out rows based on value"
   ]
  },
  {
   "cell_type": "code",
   "execution_count": 10,
   "id": "404ee5f8",
   "metadata": {},
   "outputs": [],
   "source": [
    "df_application['DAYS_EMPLOYED'] = df_application['DAYS_EMPLOYED'].where(df_application['DAYS_EMPLOYED']!=365243,0)"
   ]
  },
  {
   "cell_type": "code",
   "execution_count": 11,
   "id": "8984770c",
   "metadata": {},
   "outputs": [
    {
     "data": {
      "text/plain": [
       "102186   -17531\n",
       "102185   -17531\n",
       "102187   -17531\n",
       "102188   -17531\n",
       "102189   -17531\n",
       "          ...  \n",
       "174975        0\n",
       "174974        0\n",
       "174973        0\n",
       "156723        0\n",
       "268401        0\n",
       "Name: DAYS_EMPLOYED, Length: 438557, dtype: int64"
      ]
     },
     "execution_count": 11,
     "metadata": {},
     "output_type": "execute_result"
    }
   ],
   "source": [
    "df_application['DAYS_EMPLOYED'].sort_values()"
   ]
  },
  {
   "cell_type": "code",
   "execution_count": 12,
   "id": "d9eb258e",
   "metadata": {},
   "outputs": [],
   "source": [
    "df_application['TOTAL_EXPERIENCE'] = (df_application['DAYS_EMPLOYED'] / -365.25).astype(int)"
   ]
  },
  {
   "attachments": {},
   "cell_type": "markdown",
   "id": "71a2b3b5",
   "metadata": {},
   "source": [
    "### 4.Filling in missing values"
   ]
  },
  {
   "cell_type": "code",
   "execution_count": 13,
   "id": "0850ba13",
   "metadata": {},
   "outputs": [],
   "source": [
    "df_application['OCCUPATION_TYPE'].fillna(\"No Job\",inplace=True)"
   ]
  },
  {
   "cell_type": "code",
   "execution_count": 14,
   "id": "24f3eb57",
   "metadata": {},
   "outputs": [
    {
     "data": {
      "text/plain": [
       "array(['No Job', 'Security staff', 'Sales staff', 'Accountants',\n",
       "       'Laborers', 'Managers', 'Drivers', 'Core staff',\n",
       "       'High skill tech staff', 'Cleaning staff', 'Private service staff',\n",
       "       'Cooking staff', 'Low-skill Laborers', 'Medicine staff',\n",
       "       'Secretaries', 'Waiters/barmen staff', 'HR staff', 'Realty agents',\n",
       "       'IT staff'], dtype=object)"
      ]
     },
     "execution_count": 14,
     "metadata": {},
     "output_type": "execute_result"
    }
   ],
   "source": [
    "df_application['OCCUPATION_TYPE'].unique()"
   ]
  },
  {
   "cell_type": "code",
   "execution_count": 15,
   "id": "2df9244b",
   "metadata": {},
   "outputs": [
    {
     "data": {
      "text/plain": [
       "No Job                   134203\n",
       "Laborers                  78240\n",
       "Core staff                43007\n",
       "Sales staff               41098\n",
       "Managers                  35487\n",
       "Drivers                   26090\n",
       "High skill tech staff     17289\n",
       "Accountants               15985\n",
       "Medicine staff            13520\n",
       "Cooking staff              8076\n",
       "Security staff             7993\n",
       "Cleaning staff             5845\n",
       "Private service staff      3456\n",
       "Low-skill Laborers         2140\n",
       "Secretaries                2044\n",
       "Waiters/barmen staff       1665\n",
       "Realty agents              1041\n",
       "HR staff                    774\n",
       "IT staff                    604\n",
       "Name: OCCUPATION_TYPE, dtype: int64"
      ]
     },
     "execution_count": 15,
     "metadata": {},
     "output_type": "execute_result"
    }
   ],
   "source": [
    "df_application['OCCUPATION_TYPE'].value_counts()"
   ]
  },
  {
   "attachments": {},
   "cell_type": "markdown",
   "id": "a33eefb9",
   "metadata": {},
   "source": [
    "##### All the other columns have valid values without nulls"
   ]
  },
  {
   "cell_type": "code",
   "execution_count": 16,
   "id": "1156f1a2",
   "metadata": {},
   "outputs": [
    {
     "data": {
      "text/plain": [
       "ID     CODE_GENDER  FLAG_OWN_CAR  FLAG_OWN_REALTY  CNT_CHILDREN  AMT_INCOME_TOTAL  NAME_INCOME_TYPE  NAME_EDUCATION_TYPE  NAME_FAMILY_STATUS  NAME_HOUSING_TYPE  DAYS_BIRTH  DAYS_EMPLOYED  FLAG_MOBIL  FLAG_WORK_PHONE  FLAG_PHONE  FLAG_EMAIL  OCCUPATION_TYPE  CNT_FAM_MEMBERS  AGE    TOTAL_EXPERIENCE\n",
       "False  False        False         False            False         False             False             False                False               False              False       False          False       False            False       False       False            False            False  False               438557\n",
       "dtype: int64"
      ]
     },
     "execution_count": 16,
     "metadata": {},
     "output_type": "execute_result"
    }
   ],
   "source": [
    "df_application.isna().value_counts()"
   ]
  },
  {
   "cell_type": "code",
   "execution_count": 17,
   "id": "0410fe10",
   "metadata": {},
   "outputs": [
    {
     "data": {
      "text/plain": [
       "ID                       int64\n",
       "CODE_GENDER             object\n",
       "FLAG_OWN_CAR            object\n",
       "FLAG_OWN_REALTY         object\n",
       "CNT_CHILDREN             int64\n",
       "AMT_INCOME_TOTAL       float64\n",
       "NAME_INCOME_TYPE        object\n",
       "NAME_EDUCATION_TYPE     object\n",
       "NAME_FAMILY_STATUS      object\n",
       "NAME_HOUSING_TYPE       object\n",
       "DAYS_BIRTH               int64\n",
       "DAYS_EMPLOYED            int64\n",
       "FLAG_MOBIL               int64\n",
       "FLAG_WORK_PHONE          int64\n",
       "FLAG_PHONE               int64\n",
       "FLAG_EMAIL               int64\n",
       "OCCUPATION_TYPE         object\n",
       "CNT_FAM_MEMBERS        float64\n",
       "AGE                      int64\n",
       "TOTAL_EXPERIENCE         int64\n",
       "dtype: object"
      ]
     },
     "execution_count": 17,
     "metadata": {},
     "output_type": "execute_result"
    }
   ],
   "source": [
    "df_application.dtypes"
   ]
  },
  {
   "attachments": {},
   "cell_type": "markdown",
   "id": "830a650c",
   "metadata": {},
   "source": [
    "### 5.Conversion of string data to number/data values\n",
    "###### making sure all the columns are strings before applying encoding"
   ]
  },
  {
   "cell_type": "code",
   "execution_count": 18,
   "id": "1b6ef2de",
   "metadata": {},
   "outputs": [],
   "source": [
    "df_application['CODE_GENDER'] = df_application['CODE_GENDER'].astype(str)\n",
    "df_application['FLAG_OWN_CAR'] = df_application['FLAG_OWN_CAR'].astype(str)\n",
    "df_application['FLAG_OWN_REALTY'] = df_application['FLAG_OWN_REALTY'].astype(str)\n",
    "df_application['NAME_INCOME_TYPE'] = df_application['NAME_INCOME_TYPE'].astype(str)\n",
    "df_application['NAME_EDUCATION_TYPE'] = df_application['NAME_EDUCATION_TYPE'].astype(str)\n",
    "df_application['NAME_FAMILY_STATUS'] = df_application['NAME_FAMILY_STATUS'].astype(str)\n",
    "df_application['NAME_HOUSING_TYPE'] = df_application['NAME_HOUSING_TYPE'].astype(str)\n",
    "df_application['OCCUPATION_TYPE'] = df_application['OCCUPATION_TYPE'].astype(str)"
   ]
  },
  {
   "attachments": {},
   "cell_type": "markdown",
   "id": "b184b747",
   "metadata": {},
   "source": [
    "### 6.changing categorical columns using encoding"
   ]
  },
  {
   "cell_type": "code",
   "execution_count": 19,
   "id": "72da7e4a",
   "metadata": {},
   "outputs": [],
   "source": [
    "CODE_GENDER_CONVERSION = {'F': 0, 'M': 1}\n",
    "FLAG_OWN_CAR_CONVERSION = {'N': 0, 'Y': 1}\n",
    "FLAG_OWN_REALTY_CONVERSION = {'N': 0, 'Y': 1}\n",
    "NAME_INCOME_TYPE_CONVERSION = {'Commercial associate': 0, 'Pensioner': 1, 'State servant': 2, 'Student': 3, 'Working': 4}\n",
    "NAME_FAMILY_STATUS_CONVERSION = {'Civil marriage': 0, 'Married': 1, 'Separated': 2, 'Single / not married': 3, 'Widow': 4}\n",
    "OCCUPATION_TYPE_CONVERSION = {'Accountants': 0, 'Cleaning staff': 1, 'Cooking staff': 2, 'Core staff': 3, 'Drivers': 4, 'HR staff': 5, 'High skill tech staff': 6, 'IT staff': 7, 'Laborers': 8, 'Low-skill Laborers': 9, 'Managers': 10, 'Medicine staff': 11, 'Private service staff': 12, 'Realty agents': 13, 'Sales staff': 14, 'Secretaries': 15, 'Security staff': 16, 'Waiters/barmen staff': 17,'No Job':18}\n",
    "NAME_HOUSING_TYPE_CONVERSION = {'Co-op apartment': 0, 'House / apartment': 1, 'Municipal apartment': 2, 'Office apartment': 3, 'Rented apartment': 4, 'With parents': 5}\n",
    "NAME_EDUCATION_TYPE_CONVERSION = {'Academic degree': 0, 'Higher education': 1, 'Incomplete higher': 2, 'Lower secondary': 3, 'Secondary / secondary special': 4}"
   ]
  },
  {
   "cell_type": "code",
   "execution_count": 20,
   "id": "5c950da5",
   "metadata": {},
   "outputs": [],
   "source": [
    "df_application.replace({'CODE_GENDER' : CODE_GENDER_CONVERSION}, inplace=True)\n",
    "df_application.replace({'FLAG_OWN_CAR' : FLAG_OWN_CAR_CONVERSION}, inplace=True)\n",
    "df_application.replace({'FLAG_OWN_REALTY' : FLAG_OWN_REALTY_CONVERSION}, inplace=True)\n",
    "df_application.replace({'NAME_INCOME_TYPE' : NAME_INCOME_TYPE_CONVERSION}, inplace=True)\n",
    "df_application.replace({'NAME_FAMILY_STATUS' : NAME_FAMILY_STATUS_CONVERSION}, inplace=True)\n",
    "df_application.replace({'OCCUPATION_TYPE' : OCCUPATION_TYPE_CONVERSION}, inplace=True)\n",
    "df_application.replace({'NAME_HOUSING_TYPE' : NAME_HOUSING_TYPE_CONVERSION}, inplace=True)\n",
    "df_application.replace({'NAME_EDUCATION_TYPE' : NAME_EDUCATION_TYPE_CONVERSION}, inplace=True)"
   ]
  },
  {
   "cell_type": "code",
   "execution_count": 21,
   "id": "27affab6",
   "metadata": {},
   "outputs": [
    {
     "name": "stdout",
     "output_type": "stream",
     "text": [
      "<class 'pandas.core.frame.DataFrame'>\n",
      "RangeIndex: 438557 entries, 0 to 438556\n",
      "Data columns (total 20 columns):\n",
      " #   Column               Non-Null Count   Dtype  \n",
      "---  ------               --------------   -----  \n",
      " 0   ID                   438557 non-null  int64  \n",
      " 1   CODE_GENDER          438557 non-null  int64  \n",
      " 2   FLAG_OWN_CAR         438557 non-null  int64  \n",
      " 3   FLAG_OWN_REALTY      438557 non-null  int64  \n",
      " 4   CNT_CHILDREN         438557 non-null  int64  \n",
      " 5   AMT_INCOME_TOTAL     438557 non-null  float64\n",
      " 6   NAME_INCOME_TYPE     438557 non-null  int64  \n",
      " 7   NAME_EDUCATION_TYPE  438557 non-null  int64  \n",
      " 8   NAME_FAMILY_STATUS   438557 non-null  int64  \n",
      " 9   NAME_HOUSING_TYPE    438557 non-null  int64  \n",
      " 10  DAYS_BIRTH           438557 non-null  int64  \n",
      " 11  DAYS_EMPLOYED        438557 non-null  int64  \n",
      " 12  FLAG_MOBIL           438557 non-null  int64  \n",
      " 13  FLAG_WORK_PHONE      438557 non-null  int64  \n",
      " 14  FLAG_PHONE           438557 non-null  int64  \n",
      " 15  FLAG_EMAIL           438557 non-null  int64  \n",
      " 16  OCCUPATION_TYPE      438557 non-null  int64  \n",
      " 17  CNT_FAM_MEMBERS      438557 non-null  float64\n",
      " 18  AGE                  438557 non-null  int64  \n",
      " 19  TOTAL_EXPERIENCE     438557 non-null  int64  \n",
      "dtypes: float64(2), int64(18)\n",
      "memory usage: 66.9 MB\n"
     ]
    }
   ],
   "source": [
    "df_application.info()"
   ]
  },
  {
   "attachments": {},
   "cell_type": "markdown",
   "id": "1d824511",
   "metadata": {},
   "source": [
    "### 7.Creating target column"
   ]
  },
  {
   "cell_type": "code",
   "execution_count": 22,
   "id": "7f2f15e3",
   "metadata": {},
   "outputs": [],
   "source": [
    "Status_definition = {'C' : 'Good_Debt', 'X' : 'Good_Debt', '0' : 'Good_Debt', '1' : 'Neutral_Debt', '2' : 'Neutral_Debt', '3' : 'Bad_Debt', '4' : 'Bad_Debt', '5' : 'Bad_Debt'}\n",
    "df_credit.replace({'STATUS' : Status_definition}, inplace=True)"
   ]
  },
  {
   "cell_type": "code",
   "execution_count": 23,
   "id": "5d2fdebb",
   "metadata": {},
   "outputs": [],
   "source": [
    "df_credit = df_credit.value_counts(subset=['ID', 'STATUS']).unstack(fill_value=0)"
   ]
  },
  {
   "cell_type": "code",
   "execution_count": 24,
   "id": "f1c619c3",
   "metadata": {},
   "outputs": [],
   "source": [
    "df_credit.loc[(df_credit['Good_Debt'] > df_credit['Neutral_Debt']), 'CREDIT_APPROVAL_STATUS'] = 1\n",
    "df_credit.loc[(df_credit['Good_Debt'] > df_credit['Bad_Debt']), 'CREDIT_APPROVAL_STATUS'] = 1\n",
    "df_credit.loc[(df_credit['Neutral_Debt'] > df_credit['Good_Debt']), 'CREDIT_APPROVAL_STATUS'] = 0\n",
    "df_credit.loc[(df_credit['Neutral_Debt'] > df_credit['Bad_Debt']), 'CREDIT_APPROVAL_STATUS'] = 1\n",
    "df_credit.loc[(df_credit['Bad_Debt'] > df_credit['Good_Debt']), 'CREDIT_APPROVAL_STATUS'] = 0\n",
    "df_credit.loc[(df_credit['Bad_Debt'] > df_credit['Neutral_Debt']), 'CREDIT_APPROVAL_STATUS'] = 0"
   ]
  },
  {
   "cell_type": "code",
   "execution_count": 25,
   "id": "4eb4b24a",
   "metadata": {},
   "outputs": [
    {
     "data": {
      "text/plain": [
       "Index(['Bad_Debt', 'Good_Debt', 'Neutral_Debt', 'CREDIT_APPROVAL_STATUS'], dtype='object', name='STATUS')"
      ]
     },
     "execution_count": 25,
     "metadata": {},
     "output_type": "execute_result"
    }
   ],
   "source": [
    "df_credit.columns"
   ]
  },
  {
   "attachments": {},
   "cell_type": "markdown",
   "id": "3b020ffc",
   "metadata": {},
   "source": [
    "### 8. Dropping unwanted columns"
   ]
  },
  {
   "cell_type": "code",
   "execution_count": 26,
   "id": "c7ad6c9a",
   "metadata": {},
   "outputs": [],
   "source": [
    "df_credit.drop(columns=['Bad_Debt', 'Good_Debt', 'Neutral_Debt'],inplace=True)"
   ]
  },
  {
   "cell_type": "code",
   "execution_count": 27,
   "id": "cb84d282",
   "metadata": {},
   "outputs": [
    {
     "data": {
      "text/html": [
       "<div>\n",
       "<style scoped>\n",
       "    .dataframe tbody tr th:only-of-type {\n",
       "        vertical-align: middle;\n",
       "    }\n",
       "\n",
       "    .dataframe tbody tr th {\n",
       "        vertical-align: top;\n",
       "    }\n",
       "\n",
       "    .dataframe thead th {\n",
       "        text-align: right;\n",
       "    }\n",
       "</style>\n",
       "<table border=\"1\" class=\"dataframe\">\n",
       "  <thead>\n",
       "    <tr style=\"text-align: right;\">\n",
       "      <th>STATUS</th>\n",
       "      <th>CREDIT_APPROVAL_STATUS</th>\n",
       "    </tr>\n",
       "    <tr>\n",
       "      <th>ID</th>\n",
       "      <th></th>\n",
       "    </tr>\n",
       "  </thead>\n",
       "  <tbody>\n",
       "    <tr>\n",
       "      <th>5001711</th>\n",
       "      <td>1.0</td>\n",
       "    </tr>\n",
       "    <tr>\n",
       "      <th>5001712</th>\n",
       "      <td>1.0</td>\n",
       "    </tr>\n",
       "    <tr>\n",
       "      <th>5001713</th>\n",
       "      <td>1.0</td>\n",
       "    </tr>\n",
       "    <tr>\n",
       "      <th>5001714</th>\n",
       "      <td>1.0</td>\n",
       "    </tr>\n",
       "    <tr>\n",
       "      <th>5001715</th>\n",
       "      <td>1.0</td>\n",
       "    </tr>\n",
       "  </tbody>\n",
       "</table>\n",
       "</div>"
      ],
      "text/plain": [
       "STATUS   CREDIT_APPROVAL_STATUS\n",
       "ID                             \n",
       "5001711                     1.0\n",
       "5001712                     1.0\n",
       "5001713                     1.0\n",
       "5001714                     1.0\n",
       "5001715                     1.0"
      ]
     },
     "execution_count": 27,
     "metadata": {},
     "output_type": "execute_result"
    }
   ],
   "source": [
    "df_credit.head()"
   ]
  },
  {
   "attachments": {},
   "cell_type": "markdown",
   "id": "e3d1c284",
   "metadata": {},
   "source": [
    "### 9. Joining multiple datasets"
   ]
  },
  {
   "cell_type": "code",
   "execution_count": 28,
   "id": "4e5bcaa4",
   "metadata": {},
   "outputs": [],
   "source": [
    "merged_df = pd.merge(df_credit, df_application, on='ID', how='inner')"
   ]
  },
  {
   "cell_type": "code",
   "execution_count": 29,
   "id": "614d5a6a",
   "metadata": {},
   "outputs": [
    {
     "data": {
      "text/plain": [
       "ID                        36457\n",
       "CREDIT_APPROVAL_STATUS    36457\n",
       "CODE_GENDER               36457\n",
       "FLAG_OWN_CAR              36457\n",
       "FLAG_OWN_REALTY           36457\n",
       "CNT_CHILDREN              36457\n",
       "AMT_INCOME_TOTAL          36457\n",
       "NAME_INCOME_TYPE          36457\n",
       "NAME_EDUCATION_TYPE       36457\n",
       "NAME_FAMILY_STATUS        36457\n",
       "NAME_HOUSING_TYPE         36457\n",
       "DAYS_BIRTH                36457\n",
       "DAYS_EMPLOYED             36457\n",
       "FLAG_MOBIL                36457\n",
       "FLAG_WORK_PHONE           36457\n",
       "FLAG_PHONE                36457\n",
       "FLAG_EMAIL                36457\n",
       "OCCUPATION_TYPE           36457\n",
       "CNT_FAM_MEMBERS           36457\n",
       "AGE                       36457\n",
       "TOTAL_EXPERIENCE          36457\n",
       "dtype: int64"
      ]
     },
     "execution_count": 29,
     "metadata": {},
     "output_type": "execute_result"
    }
   ],
   "source": [
    "merged_df.count()"
   ]
  },
  {
   "cell_type": "code",
   "execution_count": null,
   "id": "cff0f452",
   "metadata": {},
   "outputs": [],
   "source": []
  },
  {
   "attachments": {},
   "cell_type": "markdown",
   "id": "f54a0325",
   "metadata": {},
   "source": [
    "## Exploratory Data Analysis"
   ]
  },
  {
   "attachments": {},
   "cell_type": "markdown",
   "id": "75c34ccc",
   "metadata": {},
   "source": [
    "### 1.Summary Statistics"
   ]
  },
  {
   "cell_type": "code",
   "execution_count": 30,
   "id": "3bdfd700",
   "metadata": {},
   "outputs": [
    {
     "data": {
      "text/html": [
       "<div>\n",
       "<style scoped>\n",
       "    .dataframe tbody tr th:only-of-type {\n",
       "        vertical-align: middle;\n",
       "    }\n",
       "\n",
       "    .dataframe tbody tr th {\n",
       "        vertical-align: top;\n",
       "    }\n",
       "\n",
       "    .dataframe thead th {\n",
       "        text-align: right;\n",
       "    }\n",
       "</style>\n",
       "<table border=\"1\" class=\"dataframe\">\n",
       "  <thead>\n",
       "    <tr style=\"text-align: right;\">\n",
       "      <th></th>\n",
       "      <th>count</th>\n",
       "      <th>mean</th>\n",
       "      <th>std</th>\n",
       "      <th>min</th>\n",
       "      <th>25%</th>\n",
       "      <th>50%</th>\n",
       "      <th>75%</th>\n",
       "      <th>max</th>\n",
       "    </tr>\n",
       "  </thead>\n",
       "  <tbody>\n",
       "    <tr>\n",
       "      <th>ID</th>\n",
       "      <td>36457.0</td>\n",
       "      <td>5.078227e+06</td>\n",
       "      <td>41875.240788</td>\n",
       "      <td>5008804.0</td>\n",
       "      <td>5042028.0</td>\n",
       "      <td>5074614.0</td>\n",
       "      <td>5115396.0</td>\n",
       "      <td>5150487.0</td>\n",
       "    </tr>\n",
       "    <tr>\n",
       "      <th>CREDIT_APPROVAL_STATUS</th>\n",
       "      <td>36457.0</td>\n",
       "      <td>9.951724e-01</td>\n",
       "      <td>0.069314</td>\n",
       "      <td>0.0</td>\n",
       "      <td>1.0</td>\n",
       "      <td>1.0</td>\n",
       "      <td>1.0</td>\n",
       "      <td>1.0</td>\n",
       "    </tr>\n",
       "    <tr>\n",
       "      <th>CODE_GENDER</th>\n",
       "      <td>36457.0</td>\n",
       "      <td>3.298955e-01</td>\n",
       "      <td>0.470181</td>\n",
       "      <td>0.0</td>\n",
       "      <td>0.0</td>\n",
       "      <td>0.0</td>\n",
       "      <td>1.0</td>\n",
       "      <td>1.0</td>\n",
       "    </tr>\n",
       "    <tr>\n",
       "      <th>FLAG_OWN_CAR</th>\n",
       "      <td>36457.0</td>\n",
       "      <td>3.797076e-01</td>\n",
       "      <td>0.485321</td>\n",
       "      <td>0.0</td>\n",
       "      <td>0.0</td>\n",
       "      <td>0.0</td>\n",
       "      <td>1.0</td>\n",
       "      <td>1.0</td>\n",
       "    </tr>\n",
       "    <tr>\n",
       "      <th>FLAG_OWN_REALTY</th>\n",
       "      <td>36457.0</td>\n",
       "      <td>6.721892e-01</td>\n",
       "      <td>0.469422</td>\n",
       "      <td>0.0</td>\n",
       "      <td>0.0</td>\n",
       "      <td>1.0</td>\n",
       "      <td>1.0</td>\n",
       "      <td>1.0</td>\n",
       "    </tr>\n",
       "    <tr>\n",
       "      <th>CNT_CHILDREN</th>\n",
       "      <td>36457.0</td>\n",
       "      <td>4.303152e-01</td>\n",
       "      <td>0.742367</td>\n",
       "      <td>0.0</td>\n",
       "      <td>0.0</td>\n",
       "      <td>0.0</td>\n",
       "      <td>1.0</td>\n",
       "      <td>19.0</td>\n",
       "    </tr>\n",
       "    <tr>\n",
       "      <th>AMT_INCOME_TOTAL</th>\n",
       "      <td>36457.0</td>\n",
       "      <td>1.866857e+05</td>\n",
       "      <td>101789.226482</td>\n",
       "      <td>27000.0</td>\n",
       "      <td>121500.0</td>\n",
       "      <td>157500.0</td>\n",
       "      <td>225000.0</td>\n",
       "      <td>1575000.0</td>\n",
       "    </tr>\n",
       "    <tr>\n",
       "      <th>NAME_INCOME_TYPE</th>\n",
       "      <td>36457.0</td>\n",
       "      <td>2.398195e+00</td>\n",
       "      <td>1.734032</td>\n",
       "      <td>0.0</td>\n",
       "      <td>1.0</td>\n",
       "      <td>4.0</td>\n",
       "      <td>4.0</td>\n",
       "      <td>4.0</td>\n",
       "    </tr>\n",
       "    <tr>\n",
       "      <th>NAME_EDUCATION_TYPE</th>\n",
       "      <td>36457.0</td>\n",
       "      <td>3.097183e+00</td>\n",
       "      <td>1.341292</td>\n",
       "      <td>0.0</td>\n",
       "      <td>1.0</td>\n",
       "      <td>4.0</td>\n",
       "      <td>4.0</td>\n",
       "      <td>4.0</td>\n",
       "    </tr>\n",
       "    <tr>\n",
       "      <th>NAME_FAMILY_STATUS</th>\n",
       "      <td>36457.0</td>\n",
       "      <td>1.367885e+00</td>\n",
       "      <td>0.954557</td>\n",
       "      <td>0.0</td>\n",
       "      <td>1.0</td>\n",
       "      <td>1.0</td>\n",
       "      <td>1.0</td>\n",
       "      <td>4.0</td>\n",
       "    </tr>\n",
       "    <tr>\n",
       "      <th>NAME_HOUSING_TYPE</th>\n",
       "      <td>36457.0</td>\n",
       "      <td>1.282881e+00</td>\n",
       "      <td>0.951675</td>\n",
       "      <td>0.0</td>\n",
       "      <td>1.0</td>\n",
       "      <td>1.0</td>\n",
       "      <td>1.0</td>\n",
       "      <td>5.0</td>\n",
       "    </tr>\n",
       "    <tr>\n",
       "      <th>DAYS_BIRTH</th>\n",
       "      <td>36457.0</td>\n",
       "      <td>-1.597517e+04</td>\n",
       "      <td>4200.549944</td>\n",
       "      <td>-25152.0</td>\n",
       "      <td>-19438.0</td>\n",
       "      <td>-15563.0</td>\n",
       "      <td>-12462.0</td>\n",
       "      <td>-7489.0</td>\n",
       "    </tr>\n",
       "    <tr>\n",
       "      <th>DAYS_EMPLOYED</th>\n",
       "      <td>36457.0</td>\n",
       "      <td>-2.200317e+03</td>\n",
       "      <td>2366.796762</td>\n",
       "      <td>-15713.0</td>\n",
       "      <td>-3153.0</td>\n",
       "      <td>-1552.0</td>\n",
       "      <td>-408.0</td>\n",
       "      <td>0.0</td>\n",
       "    </tr>\n",
       "    <tr>\n",
       "      <th>FLAG_MOBIL</th>\n",
       "      <td>36457.0</td>\n",
       "      <td>1.000000e+00</td>\n",
       "      <td>0.000000</td>\n",
       "      <td>1.0</td>\n",
       "      <td>1.0</td>\n",
       "      <td>1.0</td>\n",
       "      <td>1.0</td>\n",
       "      <td>1.0</td>\n",
       "    </tr>\n",
       "    <tr>\n",
       "      <th>FLAG_WORK_PHONE</th>\n",
       "      <td>36457.0</td>\n",
       "      <td>2.255260e-01</td>\n",
       "      <td>0.417934</td>\n",
       "      <td>0.0</td>\n",
       "      <td>0.0</td>\n",
       "      <td>0.0</td>\n",
       "      <td>0.0</td>\n",
       "      <td>1.0</td>\n",
       "    </tr>\n",
       "    <tr>\n",
       "      <th>FLAG_PHONE</th>\n",
       "      <td>36457.0</td>\n",
       "      <td>2.948131e-01</td>\n",
       "      <td>0.455965</td>\n",
       "      <td>0.0</td>\n",
       "      <td>0.0</td>\n",
       "      <td>0.0</td>\n",
       "      <td>1.0</td>\n",
       "      <td>1.0</td>\n",
       "    </tr>\n",
       "    <tr>\n",
       "      <th>FLAG_EMAIL</th>\n",
       "      <td>36457.0</td>\n",
       "      <td>8.972214e-02</td>\n",
       "      <td>0.285787</td>\n",
       "      <td>0.0</td>\n",
       "      <td>0.0</td>\n",
       "      <td>0.0</td>\n",
       "      <td>0.0</td>\n",
       "      <td>1.0</td>\n",
       "    </tr>\n",
       "    <tr>\n",
       "      <th>OCCUPATION_TYPE</th>\n",
       "      <td>36457.0</td>\n",
       "      <td>1.090169e+01</td>\n",
       "      <td>5.974049</td>\n",
       "      <td>0.0</td>\n",
       "      <td>6.0</td>\n",
       "      <td>10.0</td>\n",
       "      <td>18.0</td>\n",
       "      <td>18.0</td>\n",
       "    </tr>\n",
       "    <tr>\n",
       "      <th>CNT_FAM_MEMBERS</th>\n",
       "      <td>36457.0</td>\n",
       "      <td>2.198453e+00</td>\n",
       "      <td>0.911686</td>\n",
       "      <td>1.0</td>\n",
       "      <td>2.0</td>\n",
       "      <td>2.0</td>\n",
       "      <td>3.0</td>\n",
       "      <td>20.0</td>\n",
       "    </tr>\n",
       "    <tr>\n",
       "      <th>AGE</th>\n",
       "      <td>36457.0</td>\n",
       "      <td>4.323203e+01</td>\n",
       "      <td>11.503981</td>\n",
       "      <td>20.0</td>\n",
       "      <td>34.0</td>\n",
       "      <td>42.0</td>\n",
       "      <td>53.0</td>\n",
       "      <td>68.0</td>\n",
       "    </tr>\n",
       "    <tr>\n",
       "      <th>TOTAL_EXPERIENCE</th>\n",
       "      <td>36457.0</td>\n",
       "      <td>5.612804e+00</td>\n",
       "      <td>6.414407</td>\n",
       "      <td>0.0</td>\n",
       "      <td>1.0</td>\n",
       "      <td>4.0</td>\n",
       "      <td>8.0</td>\n",
       "      <td>43.0</td>\n",
       "    </tr>\n",
       "  </tbody>\n",
       "</table>\n",
       "</div>"
      ],
      "text/plain": [
       "                          count          mean            std        min  \\\n",
       "ID                      36457.0  5.078227e+06   41875.240788  5008804.0   \n",
       "CREDIT_APPROVAL_STATUS  36457.0  9.951724e-01       0.069314        0.0   \n",
       "CODE_GENDER             36457.0  3.298955e-01       0.470181        0.0   \n",
       "FLAG_OWN_CAR            36457.0  3.797076e-01       0.485321        0.0   \n",
       "FLAG_OWN_REALTY         36457.0  6.721892e-01       0.469422        0.0   \n",
       "CNT_CHILDREN            36457.0  4.303152e-01       0.742367        0.0   \n",
       "AMT_INCOME_TOTAL        36457.0  1.866857e+05  101789.226482    27000.0   \n",
       "NAME_INCOME_TYPE        36457.0  2.398195e+00       1.734032        0.0   \n",
       "NAME_EDUCATION_TYPE     36457.0  3.097183e+00       1.341292        0.0   \n",
       "NAME_FAMILY_STATUS      36457.0  1.367885e+00       0.954557        0.0   \n",
       "NAME_HOUSING_TYPE       36457.0  1.282881e+00       0.951675        0.0   \n",
       "DAYS_BIRTH              36457.0 -1.597517e+04    4200.549944   -25152.0   \n",
       "DAYS_EMPLOYED           36457.0 -2.200317e+03    2366.796762   -15713.0   \n",
       "FLAG_MOBIL              36457.0  1.000000e+00       0.000000        1.0   \n",
       "FLAG_WORK_PHONE         36457.0  2.255260e-01       0.417934        0.0   \n",
       "FLAG_PHONE              36457.0  2.948131e-01       0.455965        0.0   \n",
       "FLAG_EMAIL              36457.0  8.972214e-02       0.285787        0.0   \n",
       "OCCUPATION_TYPE         36457.0  1.090169e+01       5.974049        0.0   \n",
       "CNT_FAM_MEMBERS         36457.0  2.198453e+00       0.911686        1.0   \n",
       "AGE                     36457.0  4.323203e+01      11.503981       20.0   \n",
       "TOTAL_EXPERIENCE        36457.0  5.612804e+00       6.414407        0.0   \n",
       "\n",
       "                              25%        50%        75%        max  \n",
       "ID                      5042028.0  5074614.0  5115396.0  5150487.0  \n",
       "CREDIT_APPROVAL_STATUS        1.0        1.0        1.0        1.0  \n",
       "CODE_GENDER                   0.0        0.0        1.0        1.0  \n",
       "FLAG_OWN_CAR                  0.0        0.0        1.0        1.0  \n",
       "FLAG_OWN_REALTY               0.0        1.0        1.0        1.0  \n",
       "CNT_CHILDREN                  0.0        0.0        1.0       19.0  \n",
       "AMT_INCOME_TOTAL         121500.0   157500.0   225000.0  1575000.0  \n",
       "NAME_INCOME_TYPE              1.0        4.0        4.0        4.0  \n",
       "NAME_EDUCATION_TYPE           1.0        4.0        4.0        4.0  \n",
       "NAME_FAMILY_STATUS            1.0        1.0        1.0        4.0  \n",
       "NAME_HOUSING_TYPE             1.0        1.0        1.0        5.0  \n",
       "DAYS_BIRTH               -19438.0   -15563.0   -12462.0    -7489.0  \n",
       "DAYS_EMPLOYED             -3153.0    -1552.0     -408.0        0.0  \n",
       "FLAG_MOBIL                    1.0        1.0        1.0        1.0  \n",
       "FLAG_WORK_PHONE               0.0        0.0        0.0        1.0  \n",
       "FLAG_PHONE                    0.0        0.0        1.0        1.0  \n",
       "FLAG_EMAIL                    0.0        0.0        0.0        1.0  \n",
       "OCCUPATION_TYPE               6.0       10.0       18.0       18.0  \n",
       "CNT_FAM_MEMBERS               2.0        2.0        3.0       20.0  \n",
       "AGE                          34.0       42.0       53.0       68.0  \n",
       "TOTAL_EXPERIENCE              1.0        4.0        8.0       43.0  "
      ]
     },
     "execution_count": 30,
     "metadata": {},
     "output_type": "execute_result"
    }
   ],
   "source": [
    "merged_df.describe().T"
   ]
  },
  {
   "attachments": {},
   "cell_type": "markdown",
   "id": "15275b66",
   "metadata": {},
   "source": [
    "### 2.Correlation Analysis"
   ]
  },
  {
   "cell_type": "code",
   "execution_count": 31,
   "id": "87e2ac61",
   "metadata": {},
   "outputs": [
    {
     "data": {
      "text/html": [
       "<div>\n",
       "<style scoped>\n",
       "    .dataframe tbody tr th:only-of-type {\n",
       "        vertical-align: middle;\n",
       "    }\n",
       "\n",
       "    .dataframe tbody tr th {\n",
       "        vertical-align: top;\n",
       "    }\n",
       "\n",
       "    .dataframe thead th {\n",
       "        text-align: right;\n",
       "    }\n",
       "</style>\n",
       "<table border=\"1\" class=\"dataframe\">\n",
       "  <thead>\n",
       "    <tr style=\"text-align: right;\">\n",
       "      <th></th>\n",
       "      <th>ID</th>\n",
       "      <th>CREDIT_APPROVAL_STATUS</th>\n",
       "      <th>CODE_GENDER</th>\n",
       "      <th>FLAG_OWN_CAR</th>\n",
       "      <th>FLAG_OWN_REALTY</th>\n",
       "      <th>CNT_CHILDREN</th>\n",
       "      <th>AMT_INCOME_TOTAL</th>\n",
       "      <th>NAME_INCOME_TYPE</th>\n",
       "      <th>NAME_EDUCATION_TYPE</th>\n",
       "      <th>NAME_FAMILY_STATUS</th>\n",
       "      <th>...</th>\n",
       "      <th>DAYS_BIRTH</th>\n",
       "      <th>DAYS_EMPLOYED</th>\n",
       "      <th>FLAG_MOBIL</th>\n",
       "      <th>FLAG_WORK_PHONE</th>\n",
       "      <th>FLAG_PHONE</th>\n",
       "      <th>FLAG_EMAIL</th>\n",
       "      <th>OCCUPATION_TYPE</th>\n",
       "      <th>CNT_FAM_MEMBERS</th>\n",
       "      <th>AGE</th>\n",
       "      <th>TOTAL_EXPERIENCE</th>\n",
       "    </tr>\n",
       "  </thead>\n",
       "  <tbody>\n",
       "    <tr>\n",
       "      <th>ID</th>\n",
       "      <td>1.000000</td>\n",
       "      <td>-0.008189</td>\n",
       "      <td>0.012022</td>\n",
       "      <td>-0.011163</td>\n",
       "      <td>-0.098851</td>\n",
       "      <td>0.028878</td>\n",
       "      <td>-0.017667</td>\n",
       "      <td>0.023193</td>\n",
       "      <td>-0.009211</td>\n",
       "      <td>-0.004336</td>\n",
       "      <td>...</td>\n",
       "      <td>0.056016</td>\n",
       "      <td>0.005745</td>\n",
       "      <td>NaN</td>\n",
       "      <td>0.079215</td>\n",
       "      <td>0.009879</td>\n",
       "      <td>-0.046979</td>\n",
       "      <td>-0.009127</td>\n",
       "      <td>0.026624</td>\n",
       "      <td>-0.056346</td>\n",
       "      <td>-0.006937</td>\n",
       "    </tr>\n",
       "    <tr>\n",
       "      <th>CREDIT_APPROVAL_STATUS</th>\n",
       "      <td>-0.008189</td>\n",
       "      <td>1.000000</td>\n",
       "      <td>-0.010048</td>\n",
       "      <td>0.005568</td>\n",
       "      <td>0.009531</td>\n",
       "      <td>0.005190</td>\n",
       "      <td>-0.004476</td>\n",
       "      <td>0.013940</td>\n",
       "      <td>0.004161</td>\n",
       "      <td>-0.010054</td>\n",
       "      <td>...</td>\n",
       "      <td>0.015505</td>\n",
       "      <td>-0.013357</td>\n",
       "      <td>NaN</td>\n",
       "      <td>0.004443</td>\n",
       "      <td>-0.007909</td>\n",
       "      <td>-0.000289</td>\n",
       "      <td>-0.003067</td>\n",
       "      <td>0.005178</td>\n",
       "      <td>-0.015486</td>\n",
       "      <td>0.013749</td>\n",
       "    </tr>\n",
       "    <tr>\n",
       "      <th>CODE_GENDER</th>\n",
       "      <td>0.012022</td>\n",
       "      <td>-0.010048</td>\n",
       "      <td>1.000000</td>\n",
       "      <td>0.361379</td>\n",
       "      <td>-0.050758</td>\n",
       "      <td>0.077690</td>\n",
       "      <td>0.197805</td>\n",
       "      <td>0.105639</td>\n",
       "      <td>0.005880</td>\n",
       "      <td>-0.099289</td>\n",
       "      <td>...</td>\n",
       "      <td>0.202352</td>\n",
       "      <td>0.031731</td>\n",
       "      <td>NaN</td>\n",
       "      <td>0.064994</td>\n",
       "      <td>-0.026833</td>\n",
       "      <td>-0.003284</td>\n",
       "      <td>-0.130181</td>\n",
       "      <td>0.110782</td>\n",
       "      <td>-0.202286</td>\n",
       "      <td>-0.037237</td>\n",
       "    </tr>\n",
       "    <tr>\n",
       "      <th>FLAG_OWN_CAR</th>\n",
       "      <td>-0.011163</td>\n",
       "      <td>0.005568</td>\n",
       "      <td>0.361379</td>\n",
       "      <td>1.000000</td>\n",
       "      <td>-0.015185</td>\n",
       "      <td>0.105839</td>\n",
       "      <td>0.215506</td>\n",
       "      <td>0.054817</td>\n",
       "      <td>-0.101272</td>\n",
       "      <td>-0.121716</td>\n",
       "      <td>...</td>\n",
       "      <td>0.157144</td>\n",
       "      <td>-0.006244</td>\n",
       "      <td>NaN</td>\n",
       "      <td>0.021644</td>\n",
       "      <td>-0.014019</td>\n",
       "      <td>0.021750</td>\n",
       "      <td>-0.119776</td>\n",
       "      <td>0.151814</td>\n",
       "      <td>-0.156825</td>\n",
       "      <td>0.001127</td>\n",
       "    </tr>\n",
       "    <tr>\n",
       "      <th>FLAG_OWN_REALTY</th>\n",
       "      <td>-0.098851</td>\n",
       "      <td>0.009531</td>\n",
       "      <td>-0.050758</td>\n",
       "      <td>-0.015185</td>\n",
       "      <td>1.000000</td>\n",
       "      <td>-0.000575</td>\n",
       "      <td>0.032719</td>\n",
       "      <td>-0.046543</td>\n",
       "      <td>0.010997</td>\n",
       "      <td>0.022993</td>\n",
       "      <td>...</td>\n",
       "      <td>-0.129838</td>\n",
       "      <td>0.033646</td>\n",
       "      <td>NaN</td>\n",
       "      <td>-0.207732</td>\n",
       "      <td>-0.066601</td>\n",
       "      <td>0.052194</td>\n",
       "      <td>0.048800</td>\n",
       "      <td>-0.005723</td>\n",
       "      <td>0.129237</td>\n",
       "      <td>-0.031514</td>\n",
       "    </tr>\n",
       "    <tr>\n",
       "      <th>CNT_CHILDREN</th>\n",
       "      <td>0.028878</td>\n",
       "      <td>0.005190</td>\n",
       "      <td>0.077690</td>\n",
       "      <td>0.105839</td>\n",
       "      <td>-0.000575</td>\n",
       "      <td>1.000000</td>\n",
       "      <td>0.033691</td>\n",
       "      <td>0.109401</td>\n",
       "      <td>-0.049823</td>\n",
       "      <td>-0.160386</td>\n",
       "      <td>...</td>\n",
       "      <td>0.339357</td>\n",
       "      <td>-0.043358</td>\n",
       "      <td>NaN</td>\n",
       "      <td>0.048091</td>\n",
       "      <td>-0.016291</td>\n",
       "      <td>0.015960</td>\n",
       "      <td>-0.134796</td>\n",
       "      <td>0.889114</td>\n",
       "      <td>-0.339310</td>\n",
       "      <td>0.037226</td>\n",
       "    </tr>\n",
       "    <tr>\n",
       "      <th>AMT_INCOME_TOTAL</th>\n",
       "      <td>-0.017667</td>\n",
       "      <td>-0.004476</td>\n",
       "      <td>0.197805</td>\n",
       "      <td>0.215506</td>\n",
       "      <td>0.032719</td>\n",
       "      <td>0.033691</td>\n",
       "      <td>1.000000</td>\n",
       "      <td>-0.072974</td>\n",
       "      <td>-0.226931</td>\n",
       "      <td>-0.001191</td>\n",
       "      <td>...</td>\n",
       "      <td>0.067908</td>\n",
       "      <td>-0.087130</td>\n",
       "      <td>NaN</td>\n",
       "      <td>-0.037746</td>\n",
       "      <td>0.017245</td>\n",
       "      <td>0.086681</td>\n",
       "      <td>-0.091777</td>\n",
       "      <td>0.023750</td>\n",
       "      <td>-0.067622</td>\n",
       "      <td>0.082848</td>\n",
       "    </tr>\n",
       "    <tr>\n",
       "      <th>NAME_INCOME_TYPE</th>\n",
       "      <td>0.023193</td>\n",
       "      <td>0.013940</td>\n",
       "      <td>0.105639</td>\n",
       "      <td>0.054817</td>\n",
       "      <td>-0.046543</td>\n",
       "      <td>0.109401</td>\n",
       "      <td>-0.072974</td>\n",
       "      <td>1.000000</td>\n",
       "      <td>0.057225</td>\n",
       "      <td>-0.048532</td>\n",
       "      <td>...</td>\n",
       "      <td>0.213509</td>\n",
       "      <td>-0.192949</td>\n",
       "      <td>NaN</td>\n",
       "      <td>0.165785</td>\n",
       "      <td>0.006529</td>\n",
       "      <td>-0.019567</td>\n",
       "      <td>-0.204559</td>\n",
       "      <td>0.109313</td>\n",
       "      <td>-0.213533</td>\n",
       "      <td>0.185540</td>\n",
       "    </tr>\n",
       "    <tr>\n",
       "      <th>NAME_EDUCATION_TYPE</th>\n",
       "      <td>-0.009211</td>\n",
       "      <td>0.004161</td>\n",
       "      <td>0.005880</td>\n",
       "      <td>-0.101272</td>\n",
       "      <td>0.010997</td>\n",
       "      <td>-0.049823</td>\n",
       "      <td>-0.226931</td>\n",
       "      <td>0.057225</td>\n",
       "      <td>1.000000</td>\n",
       "      <td>0.007747</td>\n",
       "      <td>...</td>\n",
       "      <td>-0.169024</td>\n",
       "      <td>0.016347</td>\n",
       "      <td>NaN</td>\n",
       "      <td>-0.021092</td>\n",
       "      <td>-0.044875</td>\n",
       "      <td>-0.098457</td>\n",
       "      <td>0.081714</td>\n",
       "      <td>-0.041344</td>\n",
       "      <td>0.169541</td>\n",
       "      <td>-0.014265</td>\n",
       "    </tr>\n",
       "    <tr>\n",
       "      <th>NAME_FAMILY_STATUS</th>\n",
       "      <td>-0.004336</td>\n",
       "      <td>-0.010054</td>\n",
       "      <td>-0.099289</td>\n",
       "      <td>-0.121716</td>\n",
       "      <td>0.022993</td>\n",
       "      <td>-0.160386</td>\n",
       "      <td>-0.001191</td>\n",
       "      <td>-0.048532</td>\n",
       "      <td>0.007747</td>\n",
       "      <td>1.000000</td>\n",
       "      <td>...</td>\n",
       "      <td>-0.106486</td>\n",
       "      <td>0.049974</td>\n",
       "      <td>NaN</td>\n",
       "      <td>-0.063103</td>\n",
       "      <td>-0.015065</td>\n",
       "      <td>-0.010895</td>\n",
       "      <td>0.055781</td>\n",
       "      <td>-0.546511</td>\n",
       "      <td>0.106505</td>\n",
       "      <td>-0.046533</td>\n",
       "    </tr>\n",
       "    <tr>\n",
       "      <th>NAME_HOUSING_TYPE</th>\n",
       "      <td>0.020613</td>\n",
       "      <td>0.002406</td>\n",
       "      <td>0.070301</td>\n",
       "      <td>0.016337</td>\n",
       "      <td>-0.179187</td>\n",
       "      <td>0.023302</td>\n",
       "      <td>-0.006480</td>\n",
       "      <td>0.035694</td>\n",
       "      <td>-0.036322</td>\n",
       "      <td>0.010025</td>\n",
       "      <td>...</td>\n",
       "      <td>0.211562</td>\n",
       "      <td>0.021771</td>\n",
       "      <td>NaN</td>\n",
       "      <td>0.030080</td>\n",
       "      <td>-0.020254</td>\n",
       "      <td>0.012879</td>\n",
       "      <td>-0.065115</td>\n",
       "      <td>0.003805</td>\n",
       "      <td>-0.211000</td>\n",
       "      <td>-0.025343</td>\n",
       "    </tr>\n",
       "    <tr>\n",
       "      <th>DAYS_BIRTH</th>\n",
       "      <td>0.056016</td>\n",
       "      <td>0.015505</td>\n",
       "      <td>0.202352</td>\n",
       "      <td>0.157144</td>\n",
       "      <td>-0.129838</td>\n",
       "      <td>0.339357</td>\n",
       "      <td>0.067908</td>\n",
       "      <td>0.213509</td>\n",
       "      <td>-0.169024</td>\n",
       "      <td>-0.106486</td>\n",
       "      <td>...</td>\n",
       "      <td>1.000000</td>\n",
       "      <td>-0.023497</td>\n",
       "      <td>NaN</td>\n",
       "      <td>0.179054</td>\n",
       "      <td>-0.028659</td>\n",
       "      <td>0.105625</td>\n",
       "      <td>-0.329082</td>\n",
       "      <td>0.304020</td>\n",
       "      <td>-0.999692</td>\n",
       "      <td>0.006034</td>\n",
       "    </tr>\n",
       "    <tr>\n",
       "      <th>DAYS_EMPLOYED</th>\n",
       "      <td>0.005745</td>\n",
       "      <td>-0.013357</td>\n",
       "      <td>0.031731</td>\n",
       "      <td>-0.006244</td>\n",
       "      <td>0.033646</td>\n",
       "      <td>-0.043358</td>\n",
       "      <td>-0.087130</td>\n",
       "      <td>-0.192949</td>\n",
       "      <td>0.016347</td>\n",
       "      <td>0.049974</td>\n",
       "      <td>...</td>\n",
       "      <td>-0.023497</td>\n",
       "      <td>1.000000</td>\n",
       "      <td>NaN</td>\n",
       "      <td>-0.111327</td>\n",
       "      <td>-0.043025</td>\n",
       "      <td>0.002168</td>\n",
       "      <td>0.235377</td>\n",
       "      <td>-0.054587</td>\n",
       "      <td>0.023886</td>\n",
       "      <td>-0.998836</td>\n",
       "    </tr>\n",
       "    <tr>\n",
       "      <th>FLAG_MOBIL</th>\n",
       "      <td>NaN</td>\n",
       "      <td>NaN</td>\n",
       "      <td>NaN</td>\n",
       "      <td>NaN</td>\n",
       "      <td>NaN</td>\n",
       "      <td>NaN</td>\n",
       "      <td>NaN</td>\n",
       "      <td>NaN</td>\n",
       "      <td>NaN</td>\n",
       "      <td>NaN</td>\n",
       "      <td>...</td>\n",
       "      <td>NaN</td>\n",
       "      <td>NaN</td>\n",
       "      <td>NaN</td>\n",
       "      <td>NaN</td>\n",
       "      <td>NaN</td>\n",
       "      <td>NaN</td>\n",
       "      <td>NaN</td>\n",
       "      <td>NaN</td>\n",
       "      <td>NaN</td>\n",
       "      <td>NaN</td>\n",
       "    </tr>\n",
       "    <tr>\n",
       "      <th>FLAG_WORK_PHONE</th>\n",
       "      <td>0.079215</td>\n",
       "      <td>0.004443</td>\n",
       "      <td>0.064994</td>\n",
       "      <td>0.021644</td>\n",
       "      <td>-0.207732</td>\n",
       "      <td>0.048091</td>\n",
       "      <td>-0.037746</td>\n",
       "      <td>0.165785</td>\n",
       "      <td>-0.021092</td>\n",
       "      <td>-0.063103</td>\n",
       "      <td>...</td>\n",
       "      <td>0.179054</td>\n",
       "      <td>-0.111327</td>\n",
       "      <td>NaN</td>\n",
       "      <td>1.000000</td>\n",
       "      <td>0.311644</td>\n",
       "      <td>-0.034838</td>\n",
       "      <td>-0.149313</td>\n",
       "      <td>0.064527</td>\n",
       "      <td>-0.179377</td>\n",
       "      <td>0.107218</td>\n",
       "    </tr>\n",
       "    <tr>\n",
       "      <th>FLAG_PHONE</th>\n",
       "      <td>0.009879</td>\n",
       "      <td>-0.007909</td>\n",
       "      <td>-0.026833</td>\n",
       "      <td>-0.014019</td>\n",
       "      <td>-0.066601</td>\n",
       "      <td>-0.016291</td>\n",
       "      <td>0.017245</td>\n",
       "      <td>0.006529</td>\n",
       "      <td>-0.044875</td>\n",
       "      <td>-0.015065</td>\n",
       "      <td>...</td>\n",
       "      <td>-0.028659</td>\n",
       "      <td>-0.043025</td>\n",
       "      <td>NaN</td>\n",
       "      <td>0.311644</td>\n",
       "      <td>1.000000</td>\n",
       "      <td>0.010455</td>\n",
       "      <td>-0.004102</td>\n",
       "      <td>-0.004221</td>\n",
       "      <td>0.028459</td>\n",
       "      <td>0.042997</td>\n",
       "    </tr>\n",
       "    <tr>\n",
       "      <th>FLAG_EMAIL</th>\n",
       "      <td>-0.046979</td>\n",
       "      <td>-0.000289</td>\n",
       "      <td>-0.003284</td>\n",
       "      <td>0.021750</td>\n",
       "      <td>0.052194</td>\n",
       "      <td>0.015960</td>\n",
       "      <td>0.086681</td>\n",
       "      <td>-0.019567</td>\n",
       "      <td>-0.098457</td>\n",
       "      <td>-0.010895</td>\n",
       "      <td>...</td>\n",
       "      <td>0.105625</td>\n",
       "      <td>0.002168</td>\n",
       "      <td>NaN</td>\n",
       "      <td>-0.034838</td>\n",
       "      <td>0.010455</td>\n",
       "      <td>1.000000</td>\n",
       "      <td>-0.054536</td>\n",
       "      <td>0.014619</td>\n",
       "      <td>-0.105418</td>\n",
       "      <td>-0.004496</td>\n",
       "    </tr>\n",
       "    <tr>\n",
       "      <th>OCCUPATION_TYPE</th>\n",
       "      <td>-0.009127</td>\n",
       "      <td>-0.003067</td>\n",
       "      <td>-0.130181</td>\n",
       "      <td>-0.119776</td>\n",
       "      <td>0.048800</td>\n",
       "      <td>-0.134796</td>\n",
       "      <td>-0.091777</td>\n",
       "      <td>-0.204559</td>\n",
       "      <td>0.081714</td>\n",
       "      <td>0.055781</td>\n",
       "      <td>...</td>\n",
       "      <td>-0.329082</td>\n",
       "      <td>0.235377</td>\n",
       "      <td>NaN</td>\n",
       "      <td>-0.149313</td>\n",
       "      <td>-0.004102</td>\n",
       "      <td>-0.054536</td>\n",
       "      <td>1.000000</td>\n",
       "      <td>-0.125233</td>\n",
       "      <td>0.328780</td>\n",
       "      <td>-0.222640</td>\n",
       "    </tr>\n",
       "    <tr>\n",
       "      <th>CNT_FAM_MEMBERS</th>\n",
       "      <td>0.026624</td>\n",
       "      <td>0.005178</td>\n",
       "      <td>0.110782</td>\n",
       "      <td>0.151814</td>\n",
       "      <td>-0.005723</td>\n",
       "      <td>0.889114</td>\n",
       "      <td>0.023750</td>\n",
       "      <td>0.109313</td>\n",
       "      <td>-0.041344</td>\n",
       "      <td>-0.546511</td>\n",
       "      <td>...</td>\n",
       "      <td>0.304020</td>\n",
       "      <td>-0.054587</td>\n",
       "      <td>NaN</td>\n",
       "      <td>0.064527</td>\n",
       "      <td>-0.004221</td>\n",
       "      <td>0.014619</td>\n",
       "      <td>-0.125233</td>\n",
       "      <td>1.000000</td>\n",
       "      <td>-0.304031</td>\n",
       "      <td>0.048765</td>\n",
       "    </tr>\n",
       "    <tr>\n",
       "      <th>AGE</th>\n",
       "      <td>-0.056346</td>\n",
       "      <td>-0.015486</td>\n",
       "      <td>-0.202286</td>\n",
       "      <td>-0.156825</td>\n",
       "      <td>0.129237</td>\n",
       "      <td>-0.339310</td>\n",
       "      <td>-0.067622</td>\n",
       "      <td>-0.213533</td>\n",
       "      <td>0.169541</td>\n",
       "      <td>0.106505</td>\n",
       "      <td>...</td>\n",
       "      <td>-0.999692</td>\n",
       "      <td>0.023886</td>\n",
       "      <td>NaN</td>\n",
       "      <td>-0.179377</td>\n",
       "      <td>0.028459</td>\n",
       "      <td>-0.105418</td>\n",
       "      <td>0.328780</td>\n",
       "      <td>-0.304031</td>\n",
       "      <td>1.000000</td>\n",
       "      <td>-0.006432</td>\n",
       "    </tr>\n",
       "    <tr>\n",
       "      <th>TOTAL_EXPERIENCE</th>\n",
       "      <td>-0.006937</td>\n",
       "      <td>0.013749</td>\n",
       "      <td>-0.037237</td>\n",
       "      <td>0.001127</td>\n",
       "      <td>-0.031514</td>\n",
       "      <td>0.037226</td>\n",
       "      <td>0.082848</td>\n",
       "      <td>0.185540</td>\n",
       "      <td>-0.014265</td>\n",
       "      <td>-0.046533</td>\n",
       "      <td>...</td>\n",
       "      <td>0.006034</td>\n",
       "      <td>-0.998836</td>\n",
       "      <td>NaN</td>\n",
       "      <td>0.107218</td>\n",
       "      <td>0.042997</td>\n",
       "      <td>-0.004496</td>\n",
       "      <td>-0.222640</td>\n",
       "      <td>0.048765</td>\n",
       "      <td>-0.006432</td>\n",
       "      <td>1.000000</td>\n",
       "    </tr>\n",
       "  </tbody>\n",
       "</table>\n",
       "<p>21 rows × 21 columns</p>\n",
       "</div>"
      ],
      "text/plain": [
       "                              ID  CREDIT_APPROVAL_STATUS  CODE_GENDER  \\\n",
       "ID                      1.000000               -0.008189     0.012022   \n",
       "CREDIT_APPROVAL_STATUS -0.008189                1.000000    -0.010048   \n",
       "CODE_GENDER             0.012022               -0.010048     1.000000   \n",
       "FLAG_OWN_CAR           -0.011163                0.005568     0.361379   \n",
       "FLAG_OWN_REALTY        -0.098851                0.009531    -0.050758   \n",
       "CNT_CHILDREN            0.028878                0.005190     0.077690   \n",
       "AMT_INCOME_TOTAL       -0.017667               -0.004476     0.197805   \n",
       "NAME_INCOME_TYPE        0.023193                0.013940     0.105639   \n",
       "NAME_EDUCATION_TYPE    -0.009211                0.004161     0.005880   \n",
       "NAME_FAMILY_STATUS     -0.004336               -0.010054    -0.099289   \n",
       "NAME_HOUSING_TYPE       0.020613                0.002406     0.070301   \n",
       "DAYS_BIRTH              0.056016                0.015505     0.202352   \n",
       "DAYS_EMPLOYED           0.005745               -0.013357     0.031731   \n",
       "FLAG_MOBIL                   NaN                     NaN          NaN   \n",
       "FLAG_WORK_PHONE         0.079215                0.004443     0.064994   \n",
       "FLAG_PHONE              0.009879               -0.007909    -0.026833   \n",
       "FLAG_EMAIL             -0.046979               -0.000289    -0.003284   \n",
       "OCCUPATION_TYPE        -0.009127               -0.003067    -0.130181   \n",
       "CNT_FAM_MEMBERS         0.026624                0.005178     0.110782   \n",
       "AGE                    -0.056346               -0.015486    -0.202286   \n",
       "TOTAL_EXPERIENCE       -0.006937                0.013749    -0.037237   \n",
       "\n",
       "                        FLAG_OWN_CAR  FLAG_OWN_REALTY  CNT_CHILDREN  \\\n",
       "ID                         -0.011163        -0.098851      0.028878   \n",
       "CREDIT_APPROVAL_STATUS      0.005568         0.009531      0.005190   \n",
       "CODE_GENDER                 0.361379        -0.050758      0.077690   \n",
       "FLAG_OWN_CAR                1.000000        -0.015185      0.105839   \n",
       "FLAG_OWN_REALTY            -0.015185         1.000000     -0.000575   \n",
       "CNT_CHILDREN                0.105839        -0.000575      1.000000   \n",
       "AMT_INCOME_TOTAL            0.215506         0.032719      0.033691   \n",
       "NAME_INCOME_TYPE            0.054817        -0.046543      0.109401   \n",
       "NAME_EDUCATION_TYPE        -0.101272         0.010997     -0.049823   \n",
       "NAME_FAMILY_STATUS         -0.121716         0.022993     -0.160386   \n",
       "NAME_HOUSING_TYPE           0.016337        -0.179187      0.023302   \n",
       "DAYS_BIRTH                  0.157144        -0.129838      0.339357   \n",
       "DAYS_EMPLOYED              -0.006244         0.033646     -0.043358   \n",
       "FLAG_MOBIL                       NaN              NaN           NaN   \n",
       "FLAG_WORK_PHONE             0.021644        -0.207732      0.048091   \n",
       "FLAG_PHONE                 -0.014019        -0.066601     -0.016291   \n",
       "FLAG_EMAIL                  0.021750         0.052194      0.015960   \n",
       "OCCUPATION_TYPE            -0.119776         0.048800     -0.134796   \n",
       "CNT_FAM_MEMBERS             0.151814        -0.005723      0.889114   \n",
       "AGE                        -0.156825         0.129237     -0.339310   \n",
       "TOTAL_EXPERIENCE            0.001127        -0.031514      0.037226   \n",
       "\n",
       "                        AMT_INCOME_TOTAL  NAME_INCOME_TYPE  \\\n",
       "ID                             -0.017667          0.023193   \n",
       "CREDIT_APPROVAL_STATUS         -0.004476          0.013940   \n",
       "CODE_GENDER                     0.197805          0.105639   \n",
       "FLAG_OWN_CAR                    0.215506          0.054817   \n",
       "FLAG_OWN_REALTY                 0.032719         -0.046543   \n",
       "CNT_CHILDREN                    0.033691          0.109401   \n",
       "AMT_INCOME_TOTAL                1.000000         -0.072974   \n",
       "NAME_INCOME_TYPE               -0.072974          1.000000   \n",
       "NAME_EDUCATION_TYPE            -0.226931          0.057225   \n",
       "NAME_FAMILY_STATUS             -0.001191         -0.048532   \n",
       "NAME_HOUSING_TYPE              -0.006480          0.035694   \n",
       "DAYS_BIRTH                      0.067908          0.213509   \n",
       "DAYS_EMPLOYED                  -0.087130         -0.192949   \n",
       "FLAG_MOBIL                           NaN               NaN   \n",
       "FLAG_WORK_PHONE                -0.037746          0.165785   \n",
       "FLAG_PHONE                      0.017245          0.006529   \n",
       "FLAG_EMAIL                      0.086681         -0.019567   \n",
       "OCCUPATION_TYPE                -0.091777         -0.204559   \n",
       "CNT_FAM_MEMBERS                 0.023750          0.109313   \n",
       "AGE                            -0.067622         -0.213533   \n",
       "TOTAL_EXPERIENCE                0.082848          0.185540   \n",
       "\n",
       "                        NAME_EDUCATION_TYPE  NAME_FAMILY_STATUS  ...  \\\n",
       "ID                                -0.009211           -0.004336  ...   \n",
       "CREDIT_APPROVAL_STATUS             0.004161           -0.010054  ...   \n",
       "CODE_GENDER                        0.005880           -0.099289  ...   \n",
       "FLAG_OWN_CAR                      -0.101272           -0.121716  ...   \n",
       "FLAG_OWN_REALTY                    0.010997            0.022993  ...   \n",
       "CNT_CHILDREN                      -0.049823           -0.160386  ...   \n",
       "AMT_INCOME_TOTAL                  -0.226931           -0.001191  ...   \n",
       "NAME_INCOME_TYPE                   0.057225           -0.048532  ...   \n",
       "NAME_EDUCATION_TYPE                1.000000            0.007747  ...   \n",
       "NAME_FAMILY_STATUS                 0.007747            1.000000  ...   \n",
       "NAME_HOUSING_TYPE                 -0.036322            0.010025  ...   \n",
       "DAYS_BIRTH                        -0.169024           -0.106486  ...   \n",
       "DAYS_EMPLOYED                      0.016347            0.049974  ...   \n",
       "FLAG_MOBIL                              NaN                 NaN  ...   \n",
       "FLAG_WORK_PHONE                   -0.021092           -0.063103  ...   \n",
       "FLAG_PHONE                        -0.044875           -0.015065  ...   \n",
       "FLAG_EMAIL                        -0.098457           -0.010895  ...   \n",
       "OCCUPATION_TYPE                    0.081714            0.055781  ...   \n",
       "CNT_FAM_MEMBERS                   -0.041344           -0.546511  ...   \n",
       "AGE                                0.169541            0.106505  ...   \n",
       "TOTAL_EXPERIENCE                  -0.014265           -0.046533  ...   \n",
       "\n",
       "                        DAYS_BIRTH  DAYS_EMPLOYED  FLAG_MOBIL  \\\n",
       "ID                        0.056016       0.005745         NaN   \n",
       "CREDIT_APPROVAL_STATUS    0.015505      -0.013357         NaN   \n",
       "CODE_GENDER               0.202352       0.031731         NaN   \n",
       "FLAG_OWN_CAR              0.157144      -0.006244         NaN   \n",
       "FLAG_OWN_REALTY          -0.129838       0.033646         NaN   \n",
       "CNT_CHILDREN              0.339357      -0.043358         NaN   \n",
       "AMT_INCOME_TOTAL          0.067908      -0.087130         NaN   \n",
       "NAME_INCOME_TYPE          0.213509      -0.192949         NaN   \n",
       "NAME_EDUCATION_TYPE      -0.169024       0.016347         NaN   \n",
       "NAME_FAMILY_STATUS       -0.106486       0.049974         NaN   \n",
       "NAME_HOUSING_TYPE         0.211562       0.021771         NaN   \n",
       "DAYS_BIRTH                1.000000      -0.023497         NaN   \n",
       "DAYS_EMPLOYED            -0.023497       1.000000         NaN   \n",
       "FLAG_MOBIL                     NaN            NaN         NaN   \n",
       "FLAG_WORK_PHONE           0.179054      -0.111327         NaN   \n",
       "FLAG_PHONE               -0.028659      -0.043025         NaN   \n",
       "FLAG_EMAIL                0.105625       0.002168         NaN   \n",
       "OCCUPATION_TYPE          -0.329082       0.235377         NaN   \n",
       "CNT_FAM_MEMBERS           0.304020      -0.054587         NaN   \n",
       "AGE                      -0.999692       0.023886         NaN   \n",
       "TOTAL_EXPERIENCE          0.006034      -0.998836         NaN   \n",
       "\n",
       "                        FLAG_WORK_PHONE  FLAG_PHONE  FLAG_EMAIL  \\\n",
       "ID                             0.079215    0.009879   -0.046979   \n",
       "CREDIT_APPROVAL_STATUS         0.004443   -0.007909   -0.000289   \n",
       "CODE_GENDER                    0.064994   -0.026833   -0.003284   \n",
       "FLAG_OWN_CAR                   0.021644   -0.014019    0.021750   \n",
       "FLAG_OWN_REALTY               -0.207732   -0.066601    0.052194   \n",
       "CNT_CHILDREN                   0.048091   -0.016291    0.015960   \n",
       "AMT_INCOME_TOTAL              -0.037746    0.017245    0.086681   \n",
       "NAME_INCOME_TYPE               0.165785    0.006529   -0.019567   \n",
       "NAME_EDUCATION_TYPE           -0.021092   -0.044875   -0.098457   \n",
       "NAME_FAMILY_STATUS            -0.063103   -0.015065   -0.010895   \n",
       "NAME_HOUSING_TYPE              0.030080   -0.020254    0.012879   \n",
       "DAYS_BIRTH                     0.179054   -0.028659    0.105625   \n",
       "DAYS_EMPLOYED                 -0.111327   -0.043025    0.002168   \n",
       "FLAG_MOBIL                          NaN         NaN         NaN   \n",
       "FLAG_WORK_PHONE                1.000000    0.311644   -0.034838   \n",
       "FLAG_PHONE                     0.311644    1.000000    0.010455   \n",
       "FLAG_EMAIL                    -0.034838    0.010455    1.000000   \n",
       "OCCUPATION_TYPE               -0.149313   -0.004102   -0.054536   \n",
       "CNT_FAM_MEMBERS                0.064527   -0.004221    0.014619   \n",
       "AGE                           -0.179377    0.028459   -0.105418   \n",
       "TOTAL_EXPERIENCE               0.107218    0.042997   -0.004496   \n",
       "\n",
       "                        OCCUPATION_TYPE  CNT_FAM_MEMBERS       AGE  \\\n",
       "ID                            -0.009127         0.026624 -0.056346   \n",
       "CREDIT_APPROVAL_STATUS        -0.003067         0.005178 -0.015486   \n",
       "CODE_GENDER                   -0.130181         0.110782 -0.202286   \n",
       "FLAG_OWN_CAR                  -0.119776         0.151814 -0.156825   \n",
       "FLAG_OWN_REALTY                0.048800        -0.005723  0.129237   \n",
       "CNT_CHILDREN                  -0.134796         0.889114 -0.339310   \n",
       "AMT_INCOME_TOTAL              -0.091777         0.023750 -0.067622   \n",
       "NAME_INCOME_TYPE              -0.204559         0.109313 -0.213533   \n",
       "NAME_EDUCATION_TYPE            0.081714        -0.041344  0.169541   \n",
       "NAME_FAMILY_STATUS             0.055781        -0.546511  0.106505   \n",
       "NAME_HOUSING_TYPE             -0.065115         0.003805 -0.211000   \n",
       "DAYS_BIRTH                    -0.329082         0.304020 -0.999692   \n",
       "DAYS_EMPLOYED                  0.235377        -0.054587  0.023886   \n",
       "FLAG_MOBIL                          NaN              NaN       NaN   \n",
       "FLAG_WORK_PHONE               -0.149313         0.064527 -0.179377   \n",
       "FLAG_PHONE                    -0.004102        -0.004221  0.028459   \n",
       "FLAG_EMAIL                    -0.054536         0.014619 -0.105418   \n",
       "OCCUPATION_TYPE                1.000000        -0.125233  0.328780   \n",
       "CNT_FAM_MEMBERS               -0.125233         1.000000 -0.304031   \n",
       "AGE                            0.328780        -0.304031  1.000000   \n",
       "TOTAL_EXPERIENCE              -0.222640         0.048765 -0.006432   \n",
       "\n",
       "                        TOTAL_EXPERIENCE  \n",
       "ID                             -0.006937  \n",
       "CREDIT_APPROVAL_STATUS          0.013749  \n",
       "CODE_GENDER                    -0.037237  \n",
       "FLAG_OWN_CAR                    0.001127  \n",
       "FLAG_OWN_REALTY                -0.031514  \n",
       "CNT_CHILDREN                    0.037226  \n",
       "AMT_INCOME_TOTAL                0.082848  \n",
       "NAME_INCOME_TYPE                0.185540  \n",
       "NAME_EDUCATION_TYPE            -0.014265  \n",
       "NAME_FAMILY_STATUS             -0.046533  \n",
       "NAME_HOUSING_TYPE              -0.025343  \n",
       "DAYS_BIRTH                      0.006034  \n",
       "DAYS_EMPLOYED                  -0.998836  \n",
       "FLAG_MOBIL                           NaN  \n",
       "FLAG_WORK_PHONE                 0.107218  \n",
       "FLAG_PHONE                      0.042997  \n",
       "FLAG_EMAIL                     -0.004496  \n",
       "OCCUPATION_TYPE                -0.222640  \n",
       "CNT_FAM_MEMBERS                 0.048765  \n",
       "AGE                            -0.006432  \n",
       "TOTAL_EXPERIENCE                1.000000  \n",
       "\n",
       "[21 rows x 21 columns]"
      ]
     },
     "execution_count": 31,
     "metadata": {},
     "output_type": "execute_result"
    }
   ],
   "source": [
    "merged_df.corr().T"
   ]
  },
  {
   "attachments": {},
   "cell_type": "markdown",
   "id": "b9af2703",
   "metadata": {},
   "source": [
    "### 3.Heatmap to show the correlation"
   ]
  },
  {
   "cell_type": "code",
   "execution_count": 32,
   "id": "dcdbf6ba",
   "metadata": {},
   "outputs": [
    {
     "data": {
      "text/plain": [
       "[Text(0, 0, 'ID'),\n",
       " Text(0, 1, 'CREDIT_APPROVAL_STATUS'),\n",
       " Text(0, 2, 'CODE_GENDER'),\n",
       " Text(0, 3, 'FLAG_OWN_CAR'),\n",
       " Text(0, 4, 'FLAG_OWN_REALTY'),\n",
       " Text(0, 5, 'CNT_CHILDREN'),\n",
       " Text(0, 6, 'AMT_INCOME_TOTAL'),\n",
       " Text(0, 7, 'NAME_INCOME_TYPE'),\n",
       " Text(0, 8, 'NAME_EDUCATION_TYPE'),\n",
       " Text(0, 9, 'NAME_FAMILY_STATUS'),\n",
       " Text(0, 10, 'NAME_HOUSING_TYPE'),\n",
       " Text(0, 11, 'DAYS_BIRTH'),\n",
       " Text(0, 12, 'DAYS_EMPLOYED'),\n",
       " Text(0, 13, 'FLAG_MOBIL'),\n",
       " Text(0, 14, 'FLAG_WORK_PHONE'),\n",
       " Text(0, 15, 'FLAG_PHONE'),\n",
       " Text(0, 16, 'FLAG_EMAIL'),\n",
       " Text(0, 17, 'OCCUPATION_TYPE'),\n",
       " Text(0, 18, 'CNT_FAM_MEMBERS'),\n",
       " Text(0, 19, 'AGE'),\n",
       " Text(0, 20, 'TOTAL_EXPERIENCE')]"
      ]
     },
     "execution_count": 32,
     "metadata": {},
     "output_type": "execute_result"
    },
    {
     "data": {
      "image/png": "[encoded data removed]",
      "text/plain": [
       "<Figure size 864x720 with 2 Axes>"
      ]
     },
     "metadata": {
      "needs_background": "light"
     },
     "output_type": "display_data"
    }
   ],
   "source": [
    "\n",
    "fig, ax = plt.subplots(figsize=(12, 10))\n",
    "\n",
    "# Plot the heatmap\n",
    "im = ax.imshow(merged_df.corr(), cmap='coolwarm', vmin=-1, vmax=1)\n",
    "\n",
    "# Create a colorbar\n",
    "cbar = ax.figure.colorbar(im, ax=ax)\n",
    "\n",
    "# Set the colorbar label\n",
    "cbar.ax.set_ylabel('Correlation', rotation=-90, va=\"bottom\")\n",
    "\n",
    "# Set the title and axis labels\n",
    "ax.set_title('Correlation Heatmap')\n",
    "ax.set_xlabel('Features')\n",
    "ax.set_ylabel('Features')\n",
    "\n",
    "# Create tick labels for x and y axis\n",
    "tick_labels = [col for col in merged_df.columns]\n",
    "ax.set_xticks(np.arange(len(tick_labels)))\n",
    "ax.set_yticks(np.arange(len(tick_labels)))\n",
    "ax.set_xticklabels(tick_labels, rotation=45, ha=\"right\")\n",
    "ax.set_yticklabels(tick_labels)"
   ]
  },
  {
   "attachments": {},
   "cell_type": "markdown",
   "id": "91f3547c",
   "metadata": {},
   "source": [
    "##### FLAG_MOBIL does not have any impact on the data so dropping that column"
   ]
  },
  {
   "cell_type": "code",
   "execution_count": 33,
   "id": "4c7a3173",
   "metadata": {},
   "outputs": [],
   "source": [
    "merged_df.drop(columns=['FLAG_MOBIL'],inplace=True)"
   ]
  },
  {
   "cell_type": "code",
   "execution_count": 34,
   "id": "0a2ef22d",
   "metadata": {},
   "outputs": [
    {
     "data": {
      "text/plain": [
       "Text(0.5, 1.0, 'Relationship between AMT_INCOME_TOTAL and CREDIT_APPROVAL_STATUS ')"
      ]
     },
     "execution_count": 34,
     "metadata": {},
     "output_type": "execute_result"
    },
    {
     "data": {
      "image/png": "[encoded data removed]",
      "text/plain": [
       "<Figure size 432x288 with 1 Axes>"
      ]
     },
     "metadata": {
      "needs_background": "light"
     },
     "output_type": "display_data"
    }
   ],
   "source": [
    "# AMT_INCOME_TOTAL and CREDIT_APPROVAL_STATUS \n",
    "plt.scatter(merged_df['AMT_INCOME_TOTAL'], merged_df['CREDIT_APPROVAL_STATUS'])\n",
    "\n",
    "plt.xlabel('AMT_INCOME_TOTAL')\n",
    "\n",
    "plt.ylabel('CREDIT_APPROVAL_STATUS')\n",
    "\n",
    "plt.title('Relationship between AMT_INCOME_TOTAL and CREDIT_APPROVAL_STATUS ')"
   ]
  },
  {
   "attachments": {},
   "cell_type": "markdown",
   "id": "d88c6023",
   "metadata": {},
   "source": [
    "##### AMT_INCOME_TOTAL have impact on application approval status "
   ]
  },
  {
   "cell_type": "code",
   "execution_count": 35,
   "id": "4fe5f27b",
   "metadata": {},
   "outputs": [
    {
     "data": {
      "text/plain": [
       "Text(0.5, 1.0, 'Relationship between CODE_GENDER and CREDIT_APPROVAL_STATUS ')"
      ]
     },
     "execution_count": 35,
     "metadata": {},
     "output_type": "execute_result"
    },
    {
     "data": {
      "image/png": "[encoded data removed]",
      "text/plain": [
       "<Figure size 432x288 with 1 Axes>"
      ]
     },
     "metadata": {
      "needs_background": "light"
     },
     "output_type": "display_data"
    }
   ],
   "source": [
    "# CODE_GENDER and CREDIT_APPROVAL_STATUS \n",
    "merged_df.plot.scatter(x='CODE_GENDER', y='CREDIT_APPROVAL_STATUS')\n",
    "\n",
    "plt.xlabel('CODE_GENDER')\n",
    "\n",
    "plt.ylabel('CREDIT_APPROVAL_STATUS')\n",
    "\n",
    "plt.title('Relationship between CODE_GENDER and CREDIT_APPROVAL_STATUS ')"
   ]
  },
  {
   "attachments": {},
   "cell_type": "markdown",
   "id": "63601a13",
   "metadata": {},
   "source": [
    "##### CODE_GENDER does not much influence the approval status"
   ]
  },
  {
   "cell_type": "code",
   "execution_count": null,
   "id": "f85419c4",
   "metadata": {},
   "outputs": [],
   "source": []
  },
  {
   "attachments": {},
   "cell_type": "markdown",
   "id": "a6385ed0",
   "metadata": {},
   "source": [
    "### 4.Outlier Detection"
   ]
  },
  {
   "cell_type": "code",
   "execution_count": 36,
   "id": "62bc0996",
   "metadata": {},
   "outputs": [
    {
     "data": {
      "text/plain": [
       "{'whiskers': [<matplotlib.lines.Line2D at 0x7fd8c8375580>,\n",
       "  <matplotlib.lines.Line2D at 0x7fd8c8375850>],\n",
       " 'caps': [<matplotlib.lines.Line2D at 0x7fd8c8375be0>,\n",
       "  <matplotlib.lines.Line2D at 0x7fd8c8375df0>],\n",
       " 'boxes': [<matplotlib.lines.Line2D at 0x7fd8c83752b0>],\n",
       " 'medians': [<matplotlib.lines.Line2D at 0x7fd8c8380100>],\n",
       " 'fliers': [<matplotlib.lines.Line2D at 0x7fd8c83803d0>],\n",
       " 'means': []}"
      ]
     },
     "execution_count": 36,
     "metadata": {},
     "output_type": "execute_result"
    },
    {
     "data": {
      "image/png": "[encoded data removed]",
      "text/plain": [
       "<Figure size 432x288 with 1 Axes>"
      ]
     },
     "metadata": {
      "needs_background": "light"
     },
     "output_type": "display_data"
    }
   ],
   "source": [
    "plt.boxplot(merged_df['CNT_CHILDREN'])"
   ]
  },
  {
   "attachments": {},
   "cell_type": "markdown",
   "id": "2e27cd1b",
   "metadata": {},
   "source": [
    "##### Removing the outliers from the cnt_children column"
   ]
  },
  {
   "cell_type": "code",
   "execution_count": 37,
   "id": "5e90253a",
   "metadata": {},
   "outputs": [
    {
     "data": {
      "text/html": [
       "<div>\n",
       "<style scoped>\n",
       "    .dataframe tbody tr th:only-of-type {\n",
       "        vertical-align: middle;\n",
       "    }\n",
       "\n",
       "    .dataframe tbody tr th {\n",
       "        vertical-align: top;\n",
       "    }\n",
       "\n",
       "    .dataframe thead th {\n",
       "        text-align: right;\n",
       "    }\n",
       "</style>\n",
       "<table border=\"1\" class=\"dataframe\">\n",
       "  <thead>\n",
       "    <tr style=\"text-align: right;\">\n",
       "      <th></th>\n",
       "      <th>ID</th>\n",
       "      <th>CREDIT_APPROVAL_STATUS</th>\n",
       "      <th>CODE_GENDER</th>\n",
       "      <th>FLAG_OWN_CAR</th>\n",
       "      <th>FLAG_OWN_REALTY</th>\n",
       "      <th>CNT_CHILDREN</th>\n",
       "      <th>AMT_INCOME_TOTAL</th>\n",
       "      <th>NAME_INCOME_TYPE</th>\n",
       "      <th>NAME_EDUCATION_TYPE</th>\n",
       "      <th>NAME_FAMILY_STATUS</th>\n",
       "      <th>NAME_HOUSING_TYPE</th>\n",
       "      <th>DAYS_BIRTH</th>\n",
       "      <th>DAYS_EMPLOYED</th>\n",
       "      <th>FLAG_WORK_PHONE</th>\n",
       "      <th>FLAG_PHONE</th>\n",
       "      <th>FLAG_EMAIL</th>\n",
       "      <th>OCCUPATION_TYPE</th>\n",
       "      <th>CNT_FAM_MEMBERS</th>\n",
       "      <th>AGE</th>\n",
       "      <th>TOTAL_EXPERIENCE</th>\n",
       "    </tr>\n",
       "  </thead>\n",
       "  <tbody>\n",
       "    <tr>\n",
       "      <th>24753</th>\n",
       "      <td>5105054</td>\n",
       "      <td>1.0</td>\n",
       "      <td>0</td>\n",
       "      <td>0</td>\n",
       "      <td>1</td>\n",
       "      <td>19</td>\n",
       "      <td>112500.0</td>\n",
       "      <td>4</td>\n",
       "      <td>4</td>\n",
       "      <td>3</td>\n",
       "      <td>1</td>\n",
       "      <td>-11057</td>\n",
       "      <td>-1853</td>\n",
       "      <td>1</td>\n",
       "      <td>1</td>\n",
       "      <td>0</td>\n",
       "      <td>17</td>\n",
       "      <td>20.0</td>\n",
       "      <td>30</td>\n",
       "      <td>5</td>\n",
       "    </tr>\n",
       "  </tbody>\n",
       "</table>\n",
       "</div>"
      ],
      "text/plain": [
       "            ID  CREDIT_APPROVAL_STATUS  CODE_GENDER  FLAG_OWN_CAR  \\\n",
       "24753  5105054                     1.0            0             0   \n",
       "\n",
       "       FLAG_OWN_REALTY  CNT_CHILDREN  AMT_INCOME_TOTAL  NAME_INCOME_TYPE  \\\n",
       "24753                1            19          112500.0                 4   \n",
       "\n",
       "       NAME_EDUCATION_TYPE  NAME_FAMILY_STATUS  NAME_HOUSING_TYPE  DAYS_BIRTH  \\\n",
       "24753                    4                   3                  1      -11057   \n",
       "\n",
       "       DAYS_EMPLOYED  FLAG_WORK_PHONE  FLAG_PHONE  FLAG_EMAIL  \\\n",
       "24753          -1853                1           1           0   \n",
       "\n",
       "       OCCUPATION_TYPE  CNT_FAM_MEMBERS  AGE  TOTAL_EXPERIENCE  \n",
       "24753               17             20.0   30                 5  "
      ]
     },
     "execution_count": 37,
     "metadata": {},
     "output_type": "execute_result"
    }
   ],
   "source": [
    "merged_df[merged_df['CNT_CHILDREN']>=17.5]"
   ]
  },
  {
   "cell_type": "code",
   "execution_count": 38,
   "id": "553a2fa7",
   "metadata": {},
   "outputs": [],
   "source": [
    "merged_df = merged_df[merged_df['CNT_CHILDREN']<17.5]"
   ]
  },
  {
   "cell_type": "code",
   "execution_count": 39,
   "id": "7c71403b",
   "metadata": {},
   "outputs": [
    {
     "data": {
      "text/plain": [
       "{'whiskers': [<matplotlib.lines.Line2D at 0x7fd8e8cadc10>,\n",
       "  <matplotlib.lines.Line2D at 0x7fd8e8cadee0>],\n",
       " 'caps': [<matplotlib.lines.Line2D at 0x7fd8e8cbd1f0>,\n",
       "  <matplotlib.lines.Line2D at 0x7fd8e8cbd4c0>],\n",
       " 'boxes': [<matplotlib.lines.Line2D at 0x7fd8e8cad940>],\n",
       " 'medians': [<matplotlib.lines.Line2D at 0x7fd8e8cbd790>],\n",
       " 'fliers': [<matplotlib.lines.Line2D at 0x7fd8e8cbda60>],\n",
       " 'means': []}"
      ]
     },
     "execution_count": 39,
     "metadata": {},
     "output_type": "execute_result"
    },
    {
     "data": {
      "image/png": "[encoded data removed]",
      "text/plain": [
       "<Figure size 432x288 with 1 Axes>"
      ]
     },
     "metadata": {
      "needs_background": "light"
     },
     "output_type": "display_data"
    }
   ],
   "source": [
    "plt.boxplot(merged_df['CNT_FAM_MEMBERS'])"
   ]
  },
  {
   "cell_type": "code",
   "execution_count": 40,
   "id": "ad70eab5",
   "metadata": {},
   "outputs": [
    {
     "data": {
      "text/html": [
       "<div>\n",
       "<style scoped>\n",
       "    .dataframe tbody tr th:only-of-type {\n",
       "        vertical-align: middle;\n",
       "    }\n",
       "\n",
       "    .dataframe tbody tr th {\n",
       "        vertical-align: top;\n",
       "    }\n",
       "\n",
       "    .dataframe thead th {\n",
       "        text-align: right;\n",
       "    }\n",
       "</style>\n",
       "<table border=\"1\" class=\"dataframe\">\n",
       "  <thead>\n",
       "    <tr style=\"text-align: right;\">\n",
       "      <th></th>\n",
       "      <th>ID</th>\n",
       "      <th>CREDIT_APPROVAL_STATUS</th>\n",
       "      <th>CODE_GENDER</th>\n",
       "      <th>FLAG_OWN_CAR</th>\n",
       "      <th>FLAG_OWN_REALTY</th>\n",
       "      <th>CNT_CHILDREN</th>\n",
       "      <th>AMT_INCOME_TOTAL</th>\n",
       "      <th>NAME_INCOME_TYPE</th>\n",
       "      <th>NAME_EDUCATION_TYPE</th>\n",
       "      <th>NAME_FAMILY_STATUS</th>\n",
       "      <th>NAME_HOUSING_TYPE</th>\n",
       "      <th>DAYS_BIRTH</th>\n",
       "      <th>DAYS_EMPLOYED</th>\n",
       "      <th>FLAG_WORK_PHONE</th>\n",
       "      <th>FLAG_PHONE</th>\n",
       "      <th>FLAG_EMAIL</th>\n",
       "      <th>OCCUPATION_TYPE</th>\n",
       "      <th>CNT_FAM_MEMBERS</th>\n",
       "      <th>AGE</th>\n",
       "      <th>TOTAL_EXPERIENCE</th>\n",
       "    </tr>\n",
       "  </thead>\n",
       "  <tbody>\n",
       "    <tr>\n",
       "      <th>14132</th>\n",
       "      <td>5061207</td>\n",
       "      <td>1.0</td>\n",
       "      <td>1</td>\n",
       "      <td>1</td>\n",
       "      <td>1</td>\n",
       "      <td>14</td>\n",
       "      <td>225000.0</td>\n",
       "      <td>4</td>\n",
       "      <td>4</td>\n",
       "      <td>2</td>\n",
       "      <td>1</td>\n",
       "      <td>-17754</td>\n",
       "      <td>-1689</td>\n",
       "      <td>0</td>\n",
       "      <td>0</td>\n",
       "      <td>0</td>\n",
       "      <td>4</td>\n",
       "      <td>15.0</td>\n",
       "      <td>48</td>\n",
       "      <td>4</td>\n",
       "    </tr>\n",
       "    <tr>\n",
       "      <th>14133</th>\n",
       "      <td>5061210</td>\n",
       "      <td>1.0</td>\n",
       "      <td>1</td>\n",
       "      <td>1</td>\n",
       "      <td>1</td>\n",
       "      <td>14</td>\n",
       "      <td>225000.0</td>\n",
       "      <td>4</td>\n",
       "      <td>4</td>\n",
       "      <td>2</td>\n",
       "      <td>1</td>\n",
       "      <td>-17754</td>\n",
       "      <td>-1689</td>\n",
       "      <td>0</td>\n",
       "      <td>0</td>\n",
       "      <td>0</td>\n",
       "      <td>4</td>\n",
       "      <td>15.0</td>\n",
       "      <td>48</td>\n",
       "      <td>4</td>\n",
       "    </tr>\n",
       "    <tr>\n",
       "      <th>14134</th>\n",
       "      <td>5061211</td>\n",
       "      <td>1.0</td>\n",
       "      <td>1</td>\n",
       "      <td>1</td>\n",
       "      <td>1</td>\n",
       "      <td>14</td>\n",
       "      <td>225000.0</td>\n",
       "      <td>4</td>\n",
       "      <td>4</td>\n",
       "      <td>2</td>\n",
       "      <td>1</td>\n",
       "      <td>-17754</td>\n",
       "      <td>-1689</td>\n",
       "      <td>0</td>\n",
       "      <td>0</td>\n",
       "      <td>0</td>\n",
       "      <td>4</td>\n",
       "      <td>15.0</td>\n",
       "      <td>48</td>\n",
       "      <td>4</td>\n",
       "    </tr>\n",
       "  </tbody>\n",
       "</table>\n",
       "</div>"
      ],
      "text/plain": [
       "            ID  CREDIT_APPROVAL_STATUS  CODE_GENDER  FLAG_OWN_CAR  \\\n",
       "14132  5061207                     1.0            1             1   \n",
       "14133  5061210                     1.0            1             1   \n",
       "14134  5061211                     1.0            1             1   \n",
       "\n",
       "       FLAG_OWN_REALTY  CNT_CHILDREN  AMT_INCOME_TOTAL  NAME_INCOME_TYPE  \\\n",
       "14132                1            14          225000.0                 4   \n",
       "14133                1            14          225000.0                 4   \n",
       "14134                1            14          225000.0                 4   \n",
       "\n",
       "       NAME_EDUCATION_TYPE  NAME_FAMILY_STATUS  NAME_HOUSING_TYPE  DAYS_BIRTH  \\\n",
       "14132                    4                   2                  1      -17754   \n",
       "14133                    4                   2                  1      -17754   \n",
       "14134                    4                   2                  1      -17754   \n",
       "\n",
       "       DAYS_EMPLOYED  FLAG_WORK_PHONE  FLAG_PHONE  FLAG_EMAIL  \\\n",
       "14132          -1689                0           0           0   \n",
       "14133          -1689                0           0           0   \n",
       "14134          -1689                0           0           0   \n",
       "\n",
       "       OCCUPATION_TYPE  CNT_FAM_MEMBERS  AGE  TOTAL_EXPERIENCE  \n",
       "14132                4             15.0   48                 4  \n",
       "14133                4             15.0   48                 4  \n",
       "14134                4             15.0   48                 4  "
      ]
     },
     "execution_count": 40,
     "metadata": {},
     "output_type": "execute_result"
    }
   ],
   "source": [
    "merged_df[merged_df['CNT_FAM_MEMBERS']>=12]"
   ]
  },
  {
   "cell_type": "code",
   "execution_count": 41,
   "id": "d541aaaa",
   "metadata": {},
   "outputs": [],
   "source": [
    "merged_df = merged_df[merged_df['CNT_FAM_MEMBERS']<12]"
   ]
  },
  {
   "attachments": {},
   "cell_type": "markdown",
   "id": "15779d79",
   "metadata": {},
   "source": [
    "### DATA CLEANING\n",
    "### 10. reset index"
   ]
  },
  {
   "cell_type": "code",
   "execution_count": 42,
   "id": "d5f3cc27",
   "metadata": {},
   "outputs": [],
   "source": [
    "merged_df = merged_df.reset_index()\n",
    "merged_df.drop(columns = ['index'],inplace=True)"
   ]
  },
  {
   "attachments": {},
   "cell_type": "markdown",
   "id": "6ad5176d",
   "metadata": {},
   "source": [
    "### EDA\n",
    "### 5. Using bar chart to find distribution of categorical data"
   ]
  },
  {
   "cell_type": "code",
   "execution_count": 43,
   "id": "12ab41ab",
   "metadata": {},
   "outputs": [
    {
     "data": {
      "image/png": "[encoded data removed]",
      "text/plain": [
       "<Figure size 432x288 with 1 Axes>"
      ]
     },
     "metadata": {
      "needs_background": "light"
     },
     "output_type": "display_data"
    },
    {
     "name": "stdout",
     "output_type": "stream",
     "text": [
      "From the bar chart we have observed that there are compartively very less number of families with 3 or more children\n"
     ]
    }
   ],
   "source": [
    "children_counts = merged_df['CNT_CHILDREN'].value_counts()\n",
    "children_counts.plot(kind='bar')\n",
    "\n",
    "plt.title('Distribution of No. of Children')\n",
    "\n",
    "plt.xlabel('Number of Children')\n",
    "plt.ylabel('Count')\n",
    "\n",
    "plt.xticks(range(len(children_counts)), children_counts.index)\n",
    "\n",
    "plt.show()\n",
    "print(\"From the bar chart we have observed that there are compartively very less number of families with 3 or more children\")"
   ]
  },
  {
   "cell_type": "code",
   "execution_count": 44,
   "id": "850151d2",
   "metadata": {},
   "outputs": [
    {
     "data": {
      "image/png": "[encoded data removed]",
      "text/plain": [
       "<Figure size 432x288 with 1 Axes>"
      ]
     },
     "metadata": {
      "needs_background": "light"
     },
     "output_type": "display_data"
    }
   ],
   "source": [
    "income_type_counts = merged_df['NAME_INCOME_TYPE'].value_counts()\n",
    "income_type_counts.plot(kind='bar')\n",
    "\n",
    "plt.title('Distribution of Income types')\n",
    "\n",
    "plt.xlabel('Type of Income')\n",
    "plt.ylabel('Count')\n",
    "\n",
    "plt.xticks(range(len(income_type_counts)), income_type_counts.index)\n",
    "\n",
    "plt.show()\n"
   ]
  },
  {
   "cell_type": "code",
   "execution_count": null,
   "id": "c983601c",
   "metadata": {},
   "outputs": [],
   "source": []
  },
  {
   "attachments": {},
   "cell_type": "markdown",
   "id": "28fd5bf8",
   "metadata": {},
   "source": [
    "### 6. Histogram to find the frequency of observations"
   ]
  },
  {
   "cell_type": "code",
   "execution_count": 45,
   "id": "91e66b5a",
   "metadata": {},
   "outputs": [
    {
     "data": {
      "image/png": "[encoded data removed]",
      "text/plain": [
       "<Figure size 432x288 with 1 Axes>"
      ]
     },
     "metadata": {
      "needs_background": "light"
     },
     "output_type": "display_data"
    }
   ],
   "source": [
    "plt.hist(merged_df['AMT_INCOME_TOTAL'])\n",
    "plt.title('Income range graph')\n",
    "plt.xlabel('Income obtained')\n",
    "plt.ylabel('Count')\n",
    "\n",
    "plt.show()"
   ]
  },
  {
   "cell_type": "code",
   "execution_count": 46,
   "id": "837bc8a5",
   "metadata": {},
   "outputs": [
    {
     "data": {
      "image/png": "[encoded data removed]",
      "text/plain": [
       "<Figure size 432x288 with 1 Axes>"
      ]
     },
     "metadata": {
      "needs_background": "light"
     },
     "output_type": "display_data"
    },
    {
     "name": "stdout",
     "output_type": "stream",
     "text": [
      "{'Academic degree': 0, 'Higher education': 1, 'Incomplete higher': 2, 'Lower secondary': 3, 'Secondary / secondary special': 4}\n",
      "Applicants have mostly completed their secondary school, also some applicants have even completed their higher education\n"
     ]
    }
   ],
   "source": [
    "plt.hist(merged_df['NAME_EDUCATION_TYPE'], bins=10)\n",
    "\n",
    "plt.title('Distribution of Education Types')\n",
    "\n",
    "plt.xlabel('Education Type')\n",
    "plt.ylabel('Count')\n",
    "\n",
    "plt.show()\n",
    "\n",
    "print(NAME_EDUCATION_TYPE_CONVERSION)\n",
    "print(\"Applicants have mostly completed their secondary school, also some applicants have even completed their higher education\")"
   ]
  },
  {
   "attachments": {},
   "cell_type": "markdown",
   "id": "84ec4204",
   "metadata": {},
   "source": [
    "### 7. Using skew to find the skewness in the data"
   ]
  },
  {
   "cell_type": "code",
   "execution_count": 47,
   "id": "82c93b45",
   "metadata": {},
   "outputs": [
    {
     "data": {
      "image/png": "[encoded data removed]",
      "text/plain": [
       "<Figure size 432x288 with 1 Axes>"
      ]
     },
     "metadata": {
      "needs_background": "light"
     },
     "output_type": "display_data"
    },
    {
     "name": "stdout",
     "output_type": "stream",
     "text": [
      "{'Accountants': 0, 'Cleaning staff': 1, 'Cooking staff': 2, 'Core staff': 3, 'Drivers': 4, 'HR staff': 5, 'High skill tech staff': 6, 'IT staff': 7, 'Laborers': 8, 'Low-skill Laborers': 9, 'Managers': 10, 'Medicine staff': 11, 'Private service staff': 12, 'Realty agents': 13, 'Sales staff': 14, 'Secretaries': 15, 'Security staff': 16, 'Waiters/barmen staff': 17, 'No Job': 18} \n",
      "\n",
      "There are high varieties of Occupation types in our dataset\n"
     ]
    }
   ],
   "source": [
    "plt.hist(merged_df['OCCUPATION_TYPE'], bins=10)\n",
    "\n",
    "plt.title('Distribution of Occupation Types')\n",
    "\n",
    "plt.xlabel('Occupation Type')\n",
    "plt.ylabel('Count')\n",
    "\n",
    "plt.show()\n",
    "\n",
    "print(OCCUPATION_TYPE_CONVERSION,\"\\n\")\n",
    "print(\"There are high varieties of Occupation types in our dataset\")"
   ]
  },
  {
   "cell_type": "code",
   "execution_count": 48,
   "id": "6f29471e",
   "metadata": {},
   "outputs": [
    {
     "name": "stdout",
     "output_type": "stream",
     "text": [
      "-0.146216574987524\n",
      "The skewness value is negative for occupation type. \n",
      "This indicates that the distribution of data is negatively skewed, with a long tail towards the left. This means that the majority of the data is concentrated towards the right side of the distribution\n"
     ]
    }
   ],
   "source": [
    "occupation_skew = skew(merged_df['OCCUPATION_TYPE'])\n",
    "print(occupation_skew)\n",
    "print(\"The skewness value is negative for occupation type. \\nThis indicates that the distribution of data is negatively skewed, with a long tail towards the left. This means that the majority of the data is concentrated towards the right side of the distribution\")"
   ]
  },
  {
   "cell_type": "code",
   "execution_count": null,
   "id": "bdc8dff6",
   "metadata": {},
   "outputs": [],
   "source": []
  },
  {
   "attachments": {},
   "cell_type": "markdown",
   "id": "397d3eb0",
   "metadata": {},
   "source": [
    "### 8. PIE Chart to find proportion of applicants"
   ]
  },
  {
   "cell_type": "code",
   "execution_count": 49,
   "id": "a356189f",
   "metadata": {},
   "outputs": [
    {
     "data": {
      "image/png": "[encoded data removed]",
      "text/plain": [
       "<Figure size 432x288 with 1 Axes>"
      ]
     },
     "metadata": {},
     "output_type": "display_data"
    },
    {
     "name": "stdout",
     "output_type": "stream",
     "text": [
      "Around 70% of our applicatns are married\n"
     ]
    }
   ],
   "source": [
    "colors = ['gold', 'yellowgreen', 'lightcoral', 'lightskyblue', 'orange']\n",
    "\n",
    "plt.pie(merged_df['NAME_FAMILY_STATUS'].value_counts(), labels=merged_df['NAME_FAMILY_STATUS'].unique(), colors=colors, autopct='%1.1f%%')\n",
    "\n",
    "plt.title('Distribution of Family Status')\n",
    "plt.show()\n",
    "print(\"Around 70% of our applicatns are married\")"
   ]
  },
  {
   "cell_type": "code",
   "execution_count": 50,
   "id": "6f32ccb9",
   "metadata": {},
   "outputs": [
    {
     "data": {
      "image/png": "[encoded data removed]",
      "text/plain": [
       "<Figure size 432x288 with 1 Axes>"
      ]
     },
     "metadata": {},
     "output_type": "display_data"
    },
    {
     "name": "stdout",
     "output_type": "stream",
     "text": [
      "{'Co-op apartment': 0, 'House / apartment': 1, 'Municipal apartment': 2, 'Office apartment': 3, 'Rented apartment': 4, 'With parents': 5}\n",
      "Around 90% of our applicatns are living in rented houses\n"
     ]
    }
   ],
   "source": [
    "colors = ['blue', 'red', 'skyblue', 'violet', 'green']\n",
    "\n",
    "plt.pie(merged_df['NAME_HOUSING_TYPE'].value_counts(), labels=merged_df['NAME_HOUSING_TYPE'].unique(), colors=colors, autopct='%1.1f%%')\n",
    "\n",
    "plt.title('Distribution of Hosuing types')\n",
    "plt.show()\n",
    "print(NAME_HOUSING_TYPE_CONVERSION)\n",
    "print(\"Around 90% of our applicatns are living in rented houses\")"
   ]
  },
  {
   "cell_type": "code",
   "execution_count": 51,
   "id": "4965e3c8",
   "metadata": {},
   "outputs": [
    {
     "data": {
      "image/png": "[encoded data removed]",
      "text/plain": [
       "<Figure size 432x288 with 1 Axes>"
      ]
     },
     "metadata": {},
     "output_type": "display_data"
    },
    {
     "name": "stdout",
     "output_type": "stream",
     "text": [
      "Around 54% of our applicatns are having 2 children\n"
     ]
    }
   ],
   "source": [
    "colors = ['Yellow', 'red', 'Black', 'violet', 'green','blue']\n",
    "\n",
    "plt.pie(merged_df['CNT_FAM_MEMBERS'].value_counts(), labels=merged_df['CNT_FAM_MEMBERS'].unique(), colors=colors, autopct='%1.1f%%')\n",
    "\n",
    "plt.title('Distribution of Hosuing types')\n",
    "plt.show()\n",
    "\n",
    "print(\"Around 54% of our applicatns are having 2 children\")"
   ]
  },
  {
   "attachments": {},
   "cell_type": "markdown",
   "id": "67201153",
   "metadata": {},
   "source": [
    "### 9. Line Graph to see the impact of one column on the other"
   ]
  },
  {
   "cell_type": "code",
   "execution_count": 52,
   "id": "b74f7bbe",
   "metadata": {},
   "outputs": [
    {
     "data": {
      "image/png": "[encoded data removed]",
      "text/plain": [
       "<Figure size 432x288 with 1 Axes>"
      ]
     },
     "metadata": {
      "needs_background": "light"
     },
     "output_type": "display_data"
    },
    {
     "name": "stdout",
     "output_type": "stream",
     "text": [
      "Approval is not that much impacted by age\n"
     ]
    }
   ],
   "source": [
    "x = merged_df['CREDIT_APPROVAL_STATUS']\n",
    "y = merged_df['AGE']\n",
    "plt.plot(x, y)\n",
    "\n",
    "# Add title and labels\n",
    "plt.title('AGE vs. CREDIT_APPROVAL_STATUS')\n",
    "plt.xlabel('CREDIT_APPROVAL_STATUS')\n",
    "plt.ylabel('Age')\n",
    "\n",
    "plt.show()\n",
    "\n",
    "print(\"Approval is not that much impacted by age\")"
   ]
  },
  {
   "cell_type": "code",
   "execution_count": 53,
   "id": "9ed983a2",
   "metadata": {},
   "outputs": [
    {
     "data": {
      "image/png": "[encoded data removed]",
      "text/plain": [
       "<Figure size 432x288 with 1 Axes>"
      ]
     },
     "metadata": {
      "needs_background": "light"
     },
     "output_type": "display_data"
    },
    {
     "name": "stdout",
     "output_type": "stream",
     "text": [
      "With increase in experience the approval had impact and people with more experience mostly got approval\n"
     ]
    }
   ],
   "source": [
    "x = merged_df['CREDIT_APPROVAL_STATUS']\n",
    "y = merged_df['TOTAL_EXPERIENCE']\n",
    "plt.plot(x, y)\n",
    "\n",
    "# Add title and labels\n",
    "plt.title('Experience vs. CREDIT_APPROVAL_STATUS')\n",
    "plt.xlabel('Experience')\n",
    "plt.ylabel('CREDIT_APPROVAL_STATUS')\n",
    "\n",
    "plt.show()\n",
    "\n",
    "print(\"With increase in experience the approval had impact and people with more experience mostly got approval\")"
   ]
  },
  {
   "attachments": {},
   "cell_type": "markdown",
   "id": "8cc50190",
   "metadata": {},
   "source": [
    "### 10. Violin graph to visualize distribution of numerical data across various categories"
   ]
  },
  {
   "cell_type": "code",
   "execution_count": 54,
   "id": "b4f737a8",
   "metadata": {},
   "outputs": [
    {
     "name": "stdout",
     "output_type": "stream",
     "text": [
      "{'Academic degree': 0, 'Higher education': 1, 'Incomplete higher': 2, 'Lower secondary': 3, 'Secondary / secondary special': 4}\n",
      "\n",
      " \n",
      "The applicants who have registered and not capable of completing higher have more salaries compared with other categories\n"
     ]
    },
    {
     "data": {
      "image/png": "[encoded data removed]",
      "text/plain": [
       "<Figure size 432x288 with 1 Axes>"
      ]
     },
     "metadata": {
      "needs_background": "light"
     },
     "output_type": "display_data"
    }
   ],
   "source": [
    "sns.violinplot(x='NAME_EDUCATION_TYPE', y='AMT_INCOME_TOTAL', data=merged_df)\n",
    "\n",
    "print(NAME_EDUCATION_TYPE_CONVERSION)\n",
    "print(\"\\n \\nThe applicants who have registered and not capable of completing higher have more salaries compared with other categories\")"
   ]
  },
  {
   "attachments": {},
   "cell_type": "markdown",
   "id": "ce776c4d",
   "metadata": {},
   "source": [
    "## Phase 2"
   ]
  },
  {
   "cell_type": "code",
   "execution_count": 55,
   "id": "d10b4ec1",
   "metadata": {},
   "outputs": [
    {
     "data": {
      "text/plain": [
       "Index(['ID', 'CREDIT_APPROVAL_STATUS', 'CODE_GENDER', 'FLAG_OWN_CAR',\n",
       "       'FLAG_OWN_REALTY', 'CNT_CHILDREN', 'AMT_INCOME_TOTAL',\n",
       "       'NAME_INCOME_TYPE', 'NAME_EDUCATION_TYPE', 'NAME_FAMILY_STATUS',\n",
       "       'NAME_HOUSING_TYPE', 'DAYS_BIRTH', 'DAYS_EMPLOYED', 'FLAG_WORK_PHONE',\n",
       "       'FLAG_PHONE', 'FLAG_EMAIL', 'OCCUPATION_TYPE', 'CNT_FAM_MEMBERS', 'AGE',\n",
       "       'TOTAL_EXPERIENCE'],\n",
       "      dtype='object')"
      ]
     },
     "execution_count": 55,
     "metadata": {},
     "output_type": "execute_result"
    }
   ],
   "source": [
    "merged_df.columns"
   ]
  },
  {
   "attachments": {},
   "cell_type": "markdown",
   "id": "58b79aa3",
   "metadata": {},
   "source": [
    "### Normalizing the data for all numerical columns"
   ]
  },
  {
   "cell_type": "code",
   "execution_count": 56,
   "id": "6aa6968f",
   "metadata": {},
   "outputs": [],
   "source": [
    "from sklearn.preprocessing import StandardScaler\n",
    "\n",
    "# Scaling numerical columns\n",
    "numerical_cols = ['CNT_CHILDREN', 'AMT_INCOME_TOTAL', 'DAYS_BIRTH', \n",
    "                  'DAYS_EMPLOYED', 'CNT_FAM_MEMBERS', 'AGE', 'TOTAL_EXPERIENCE']\n",
    "scaler = StandardScaler()\n",
    "merged_df[numerical_cols] = scaler.fit_transform(merged_df[numerical_cols])"
   ]
  },
  {
   "attachments": {},
   "cell_type": "markdown",
   "id": "0dac422e",
   "metadata": {},
   "source": [
    "### Importing all the required libraries for regression and plotting"
   ]
  },
  {
   "cell_type": "code",
   "execution_count": 57,
   "id": "b669a424",
   "metadata": {},
   "outputs": [],
   "source": [
    "import matplotlib.pyplot as plt\n",
    "import seaborn as sns\n",
    "\n",
    "from sklearn import metrics\n",
    "from sklearn.ensemble import RandomForestClassifier, GradientBoostingClassifier\n",
    "from sklearn.linear_model import LogisticRegression\n",
    "from sklearn.model_selection import train_test_split\n",
    "from sklearn.metrics import accuracy_score, precision_score,recall_score\n",
    "from sklearn.metrics import confusion_matrix, classification_report, PrecisionRecallDisplay, RocCurveDisplay\n",
    "from sklearn.neural_network import MLPClassifier\n",
    "from sklearn.svm import SVC\n",
    "from sklearn.tree import DecisionTreeClassifier"
   ]
  },
  {
   "cell_type": "code",
   "execution_count": 58,
   "id": "fcb875c6",
   "metadata": {},
   "outputs": [],
   "source": [
    "X_train, X_test, y_train, y_test = train_test_split(merged_df.drop(columns=['ID','CREDIT_APPROVAL_STATUS'])\n",
    "                                                    , merged_df['CREDIT_APPROVAL_STATUS']\n",
    "                                                    , test_size=0.20\n",
    "                                                    , random_state=90)"
   ]
  },
  {
   "cell_type": "code",
   "execution_count": 59,
   "id": "d987d095",
   "metadata": {},
   "outputs": [],
   "source": [
    "accuracies = {}"
   ]
  },
  {
   "attachments": {},
   "cell_type": "markdown",
   "id": "df074c0e",
   "metadata": {},
   "source": [
    "### Logistic Regression"
   ]
  },
  {
   "cell_type": "code",
   "execution_count": 60,
   "id": "64c4db02",
   "metadata": {},
   "outputs": [],
   "source": [
    "logit = LogisticRegression(max_iter=10000).fit(X_train, y_train)"
   ]
  },
  {
   "cell_type": "code",
   "execution_count": 61,
   "id": "9abd1582",
   "metadata": {},
   "outputs": [
    {
     "data": {
      "text/plain": [
       "array([1., 1., 1., ..., 1., 1., 1.])"
      ]
     },
     "execution_count": 61,
     "metadata": {},
     "output_type": "execute_result"
    }
   ],
   "source": [
    "logit.predict(X_test)"
   ]
  },
  {
   "cell_type": "code",
   "execution_count": 62,
   "id": "422a6613",
   "metadata": {},
   "outputs": [],
   "source": [
    "y_pred = logit.predict(X_test)\n",
    "score = accuracy_score(y_test, y_pred)"
   ]
  },
  {
   "cell_type": "code",
   "execution_count": 63,
   "id": "cbb0df0f",
   "metadata": {},
   "outputs": [
    {
     "name": "stdout",
     "output_type": "stream",
     "text": [
      "0.9954738718968591\n"
     ]
    }
   ],
   "source": [
    "accuracies.update({'Logistic Regression':score})\n",
    "print(accuracies['Logistic Regression'])"
   ]
  },
  {
   "attachments": {},
   "cell_type": "markdown",
   "id": "4e43ad77",
   "metadata": {},
   "source": [
    "#### Creating a confusion matrix"
   ]
  },
  {
   "cell_type": "code",
   "execution_count": 64,
   "id": "ae1928d5",
   "metadata": {},
   "outputs": [
    {
     "data": {
      "image/png": "[encoded data removed]",
      "text/plain": [
       "<Figure size 432x288 with 2 Axes>"
      ]
     },
     "metadata": {
      "needs_background": "light"
     },
     "output_type": "display_data"
    }
   ],
   "source": [
    "\n",
    "# Compute confusion matrix\n",
    "cm = confusion_matrix(y_test, y_pred)\n",
    "tn, fp, fn, tp = cm.ravel()\n",
    "\n",
    "# Plot confusion matrix as heatmap\n",
    "labels = ['Negative', 'Positive']\n",
    "sns.heatmap(cm, annot=True, cmap='Blues', xticklabels=labels, yticklabels=labels, fmt='d')\n",
    "plt.title('Confusion Matrix')\n",
    "plt.xlabel('Predicted Label')\n",
    "plt.ylabel('True Label')\n",
    "plt.show()\n"
   ]
  },
  {
   "attachments": {},
   "cell_type": "markdown",
   "id": "64f0a019",
   "metadata": {},
   "source": [
    "#### Precision-recall Graph\n",
    "#### precision measuring the accuracy of positive predictions\n",
    "#### recall measures the completeness of positive predictions"
   ]
  },
  {
   "cell_type": "code",
   "execution_count": 65,
   "id": "e510b3ed",
   "metadata": {},
   "outputs": [
    {
     "name": "stdout",
     "output_type": "stream",
     "text": [
      "Precision:  0.9954738718968591\n",
      "Recall:  1.0\n"
     ]
    },
    {
     "data": {
      "image/png": "[encoded data removed]",
      "text/plain": [
       "<Figure size 432x288 with 1 Axes>"
      ]
     },
     "metadata": {
      "needs_background": "light"
     },
     "output_type": "display_data"
    }
   ],
   "source": [
    "#calculating precision and reall\n",
    "precision = precision_score(y_test, y_pred)\n",
    "recall = recall_score(y_test, y_pred)\n",
    " \n",
    "print('Precision: ',precision)\n",
    "print('Recall: ',recall)\n",
    " \n",
    "#Plotting Precision-Recall Curve\n",
    "disp = PrecisionRecallDisplay.from_predictions(y_test, y_pred)"
   ]
  },
  {
   "attachments": {},
   "cell_type": "markdown",
   "id": "8919f916",
   "metadata": {},
   "source": [
    "#### Pairplot"
   ]
  },
  {
   "cell_type": "code",
   "execution_count": 66,
   "id": "90bfb5f8",
   "metadata": {},
   "outputs": [
    {
     "data": {
      "text/plain": [
       "<seaborn.axisgrid.PairGrid at 0x7fd8e903cc70>"
      ]
     },
     "execution_count": 66,
     "metadata": {},
     "output_type": "execute_result"
    },
    {
     "data": {
      "image/png": "[encoded data removed]",
      "text/plain": [
       "<Figure size 360x360 with 6 Axes>"
      ]
     },
     "metadata": {
      "needs_background": "light"
     },
     "output_type": "display_data"
    }
   ],
   "source": [
    "graph_df = pd.DataFrame({'y_pred': y_pred, 'y_test': y_test})\n",
    "sns.pairplot(graph_df)"
   ]
  },
  {
   "attachments": {},
   "cell_type": "markdown",
   "id": "9ca0fec0",
   "metadata": {},
   "source": [
    "#### Creating a classification report to compare y_test and y_pred"
   ]
  },
  {
   "cell_type": "code",
   "execution_count": 67,
   "id": "809e847f",
   "metadata": {},
   "outputs": [
    {
     "name": "stdout",
     "output_type": "stream",
     "text": [
      "              precision    recall  f1-score   support\n",
      "\n",
      "         0.0       1.00      0.00      0.00        33\n",
      "         1.0       1.00      1.00      1.00      7258\n",
      "\n",
      "    accuracy                           1.00      7291\n",
      "   macro avg       1.00      0.50      0.50      7291\n",
      "weighted avg       1.00      1.00      0.99      7291\n",
      "\n"
     ]
    }
   ],
   "source": [
    "print(classification_report(y_test, y_pred, zero_division=1))"
   ]
  },
  {
   "attachments": {},
   "cell_type": "markdown",
   "id": "69015b64",
   "metadata": {},
   "source": [
    "#### auc - roc_curve "
   ]
  },
  {
   "cell_type": "code",
   "execution_count": 68,
   "id": "0dc62fed",
   "metadata": {},
   "outputs": [
    {
     "data": {
      "image/png": "[encoded data removed]",
      "text/plain": [
       "<Figure size 432x288 with 1 Axes>"
      ]
     },
     "metadata": {
      "needs_background": "light"
     },
     "output_type": "display_data"
    }
   ],
   "source": [
    "y_pred = logit.predict_proba(X_test)[:, 1]\n",
    "roc_display = RocCurveDisplay.from_predictions(y_test, y_pred)"
   ]
  },
  {
   "attachments": {},
   "cell_type": "markdown",
   "id": "00da8624",
   "metadata": {},
   "source": [
    "### Decision Trees"
   ]
  },
  {
   "cell_type": "code",
   "execution_count": 69,
   "id": "fec616be",
   "metadata": {},
   "outputs": [],
   "source": [
    "tree = DecisionTreeClassifier()"
   ]
  },
  {
   "cell_type": "code",
   "execution_count": 70,
   "id": "a0e8fb12",
   "metadata": {},
   "outputs": [
    {
     "data": {
      "text/html": [
       "<style>#sk-container-id-1 {color: black;background-color: white;}#sk-container-id-1 pre{padding: 0;}#sk-container-id-1 div.sk-toggleable {background-color: white;}#sk-container-id-1 label.sk-toggleable__label {cursor: pointer;display: block;width: 100%;margin-bottom: 0;padding: 0.3em;box-sizing: border-box;text-align: center;}#sk-container-id-1 label.sk-toggleable__label-arrow:before {content: \"▸\";float: left;margin-right: 0.25em;color: #696969;}#sk-container-id-1 label.sk-toggleable__label-arrow:hover:before {color: black;}#sk-container-id-1 div.sk-estimator:hover label.sk-toggleable__label-arrow:before {color: black;}#sk-container-id-1 div.sk-toggleable__content {max-height: 0;max-width: 0;overflow: hidden;text-align: left;background-color: #f0f8ff;}#sk-container-id-1 div.sk-toggleable__content pre {margin: 0.2em;color: black;border-radius: 0.25em;background-color: #f0f8ff;}#sk-container-id-1 input.sk-toggleable__control:checked~div.sk-toggleable__content {max-height: 200px;max-width: 100%;overflow: auto;}#sk-container-id-1 input.sk-toggleable__control:checked~label.sk-toggleable__label-arrow:before {content: \"▾\";}#sk-container-id-1 div.sk-estimator input.sk-toggleable__control:checked~label.sk-toggleable__label {background-color: #d4ebff;}#sk-container-id-1 div.sk-label input.sk-toggleable__control:checked~label.sk-toggleable__label {background-color: #d4ebff;}#sk-container-id-1 input.sk-hidden--visually {border: 0;clip: rect(1px 1px 1px 1px);clip: rect(1px, 1px, 1px, 1px);height: 1px;margin: -1px;overflow: hidden;padding: 0;position: absolute;width: 1px;}#sk-container-id-1 div.sk-estimator {font-family: monospace;background-color: #f0f8ff;border: 1px dotted black;border-radius: 0.25em;box-sizing: border-box;margin-bottom: 0.5em;}#sk-container-id-1 div.sk-estimator:hover {background-color: #d4ebff;}#sk-container-id-1 div.sk-parallel-item::after {content: \"\";width: 100%;border-bottom: 1px solid gray;flex-grow: 1;}#sk-container-id-1 div.sk-label:hover label.sk-toggleable__label {background-color: #d4ebff;}#sk-container-id-1 div.sk-serial::before {content: \"\";position: absolute;border-left: 1px solid gray;box-sizing: border-box;top: 0;bottom: 0;left: 50%;z-index: 0;}#sk-container-id-1 div.sk-serial {display: flex;flex-direction: column;align-items: center;background-color: white;padding-right: 0.2em;padding-left: 0.2em;position: relative;}#sk-container-id-1 div.sk-item {position: relative;z-index: 1;}#sk-container-id-1 div.sk-parallel {display: flex;align-items: stretch;justify-content: center;background-color: white;position: relative;}#sk-container-id-1 div.sk-item::before, #sk-container-id-1 div.sk-parallel-item::before {content: \"\";position: absolute;border-left: 1px solid gray;box-sizing: border-box;top: 0;bottom: 0;left: 50%;z-index: -1;}#sk-container-id-1 div.sk-parallel-item {display: flex;flex-direction: column;z-index: 1;position: relative;background-color: white;}#sk-container-id-1 div.sk-parallel-item:first-child::after {align-self: flex-end;width: 50%;}#sk-container-id-1 div.sk-parallel-item:last-child::after {align-self: flex-start;width: 50%;}#sk-container-id-1 div.sk-parallel-item:only-child::after {width: 0;}#sk-container-id-1 div.sk-dashed-wrapped {border: 1px dashed gray;margin: 0 0.4em 0.5em 0.4em;box-sizing: border-box;padding-bottom: 0.4em;background-color: white;}#sk-container-id-1 div.sk-label label {font-family: monospace;font-weight: bold;display: inline-block;line-height: 1.2em;}#sk-container-id-1 div.sk-label-container {text-align: center;}#sk-container-id-1 div.sk-container {/* jupyter's `normalize.less` sets `[hidden] { display: none; }` but bootstrap.min.css set `[hidden] { display: none !important; }` so we also need the `!important` here to be able to override the default hidden behavior on the sphinx rendered scikit-learn.org. See: https://github.com/scikit-learn/scikit-learn/issues/21755 */display: inline-block !important;position: relative;}#sk-container-id-1 div.sk-text-repr-fallback {display: none;}</style><div id=\"sk-container-id-1\" class=\"sk-top-container\"><div class=\"sk-text-repr-fallback\"><pre>DecisionTreeClassifier()</pre><b>In a Jupyter environment, please rerun this cell to show the HTML representation or trust the notebook. <br />On GitHub, the HTML representation is unable to render, please try loading this page with nbviewer.org.</b></div><div class=\"sk-container\" hidden><div class=\"sk-item\"><div class=\"sk-estimator sk-toggleable\"><input class=\"sk-toggleable__control sk-hidden--visually\" id=\"sk-estimator-id-1\" type=\"checkbox\" checked><label for=\"sk-estimator-id-1\" class=\"sk-toggleable__label sk-toggleable__label-arrow\">DecisionTreeClassifier</label><div class=\"sk-toggleable__content\"><pre>DecisionTreeClassifier()</pre></div></div></div></div></div>"
      ],
      "text/plain": [
       "DecisionTreeClassifier()"
      ]
     },
     "execution_count": 70,
     "metadata": {},
     "output_type": "execute_result"
    }
   ],
   "source": [
    "tree.fit(X_train, y_train)"
   ]
  },
  {
   "cell_type": "code",
   "execution_count": 71,
   "id": "525bce99",
   "metadata": {},
   "outputs": [],
   "source": [
    "y_pred = tree.predict(X_test)"
   ]
  },
  {
   "cell_type": "code",
   "execution_count": 72,
   "id": "1641a416",
   "metadata": {},
   "outputs": [
    {
     "name": "stdout",
     "output_type": "stream",
     "text": [
      "0.9930050747496914\n"
     ]
    }
   ],
   "source": [
    "score = accuracy_score(y_test, y_pred)\n",
    "accuracies.update({'DecisionTreeClassifier':score})\n",
    "print(accuracies['DecisionTreeClassifier'])"
   ]
  },
  {
   "attachments": {},
   "cell_type": "markdown",
   "id": "e9fe2bde",
   "metadata": {},
   "source": [
    "#### Creating a confusion matrix"
   ]
  },
  {
   "cell_type": "code",
   "execution_count": 73,
   "id": "ddd88bfa",
   "metadata": {},
   "outputs": [
    {
     "data": {
      "image/png": "[encoded data removed]",
      "text/plain": [
       "<Figure size 432x288 with 2 Axes>"
      ]
     },
     "metadata": {
      "needs_background": "light"
     },
     "output_type": "display_data"
    }
   ],
   "source": [
    "# Compute confusion matrix\n",
    "cm = confusion_matrix(y_test, y_pred)\n",
    "tn, fp, fn, tp = cm.ravel()\n",
    "\n",
    "# Plot confusion matrix as heatmap\n",
    "labels = ['Negative', 'Positive']\n",
    "sns.heatmap(cm, annot=True, cmap='Blues', xticklabels=labels, yticklabels=labels, fmt='d')\n",
    "plt.title('Confusion Matrix')\n",
    "plt.xlabel('Predicted Label')\n",
    "plt.ylabel('True Label')\n",
    "plt.show()"
   ]
  },
  {
   "attachments": {},
   "cell_type": "markdown",
   "id": "584730c2",
   "metadata": {},
   "source": [
    "#### Precision-recall Graph\n",
    "#### precision measuring the accuracy of positive predictions\n",
    "#### recall measures the completeness of positive predictions"
   ]
  },
  {
   "cell_type": "code",
   "execution_count": 74,
   "id": "82191ee9",
   "metadata": {},
   "outputs": [
    {
     "name": "stdout",
     "output_type": "stream",
     "text": [
      "Precision:  0.9971030486963719\n",
      "Recall:  0.9958666299255994\n"
     ]
    },
    {
     "data": {
      "image/png": "[encoded data removed]",
      "text/plain": [
       "<Figure size 432x288 with 1 Axes>"
      ]
     },
     "metadata": {
      "needs_background": "light"
     },
     "output_type": "display_data"
    }
   ],
   "source": [
    "#calculating precision and reall\n",
    "precision = precision_score(y_test, y_pred)\n",
    "recall = recall_score(y_test, y_pred)\n",
    " \n",
    "print('Precision: ',precision)\n",
    "print('Recall: ',recall)\n",
    " \n",
    "#Plotting Precision-Recall Curve\n",
    "disp = PrecisionRecallDisplay.from_predictions(y_test, y_pred)"
   ]
  },
  {
   "attachments": {},
   "cell_type": "markdown",
   "id": "37f0b347",
   "metadata": {},
   "source": [
    "#### Pairplot"
   ]
  },
  {
   "cell_type": "code",
   "execution_count": 75,
   "id": "1464cc80",
   "metadata": {},
   "outputs": [
    {
     "data": {
      "text/plain": [
       "<seaborn.axisgrid.PairGrid at 0x7fd91a5b5fd0>"
      ]
     },
     "execution_count": 75,
     "metadata": {},
     "output_type": "execute_result"
    },
    {
     "data": {
      "image/png": "[encoded data removed]",
      "text/plain": [
       "<Figure size 360x360 with 6 Axes>"
      ]
     },
     "metadata": {
      "needs_background": "light"
     },
     "output_type": "display_data"
    }
   ],
   "source": [
    "graph_df = pd.DataFrame({'y_pred': y_pred, 'y_test': y_test})\n",
    "sns.pairplot(graph_df)"
   ]
  },
  {
   "attachments": {},
   "cell_type": "markdown",
   "id": "de606c86",
   "metadata": {},
   "source": [
    "#### Creating a classification report to compare y_test and y_pred"
   ]
  },
  {
   "cell_type": "code",
   "execution_count": 76,
   "id": "8c4cbec4",
   "metadata": {},
   "outputs": [
    {
     "name": "stdout",
     "output_type": "stream",
     "text": [
      "              precision    recall  f1-score   support\n",
      "\n",
      "         0.0       0.29      0.36      0.32        33\n",
      "         1.0       1.00      1.00      1.00      7258\n",
      "\n",
      "    accuracy                           0.99      7291\n",
      "   macro avg       0.64      0.68      0.66      7291\n",
      "weighted avg       0.99      0.99      0.99      7291\n",
      "\n"
     ]
    }
   ],
   "source": [
    "print(classification_report(y_test, y_pred, zero_division=1))"
   ]
  },
  {
   "attachments": {},
   "cell_type": "markdown",
   "id": "b8247c96",
   "metadata": {},
   "source": [
    "#### auc - roc_curve"
   ]
  },
  {
   "cell_type": "code",
   "execution_count": 77,
   "id": "4a3b8a12",
   "metadata": {},
   "outputs": [
    {
     "data": {
      "image/png": "[encoded data removed]",
      "text/plain": [
       "<Figure size 432x288 with 1 Axes>"
      ]
     },
     "metadata": {
      "needs_background": "light"
     },
     "output_type": "display_data"
    }
   ],
   "source": [
    "y_pred = tree.predict_proba(X_test)[:, 1]\n",
    "roc_display = RocCurveDisplay.from_predictions(y_test, y_pred)"
   ]
  },
  {
   "attachments": {},
   "cell_type": "markdown",
   "id": "d07233b3",
   "metadata": {},
   "source": [
    "### Support vector machine"
   ]
  },
  {
   "cell_type": "code",
   "execution_count": 78,
   "id": "e5de2182",
   "metadata": {},
   "outputs": [],
   "source": [
    "svm = SVC(kernel='linear', probability=True)"
   ]
  },
  {
   "cell_type": "code",
   "execution_count": 79,
   "id": "bee9a966",
   "metadata": {},
   "outputs": [
    {
     "data": {
      "text/html": [
       "<style>#sk-container-id-2 {color: black;background-color: white;}#sk-container-id-2 pre{padding: 0;}#sk-container-id-2 div.sk-toggleable {background-color: white;}#sk-container-id-2 label.sk-toggleable__label {cursor: pointer;display: block;width: 100%;margin-bottom: 0;padding: 0.3em;box-sizing: border-box;text-align: center;}#sk-container-id-2 label.sk-toggleable__label-arrow:before {content: \"▸\";float: left;margin-right: 0.25em;color: #696969;}#sk-container-id-2 label.sk-toggleable__label-arrow:hover:before {color: black;}#sk-container-id-2 div.sk-estimator:hover label.sk-toggleable__label-arrow:before {color: black;}#sk-container-id-2 div.sk-toggleable__content {max-height: 0;max-width: 0;overflow: hidden;text-align: left;background-color: #f0f8ff;}#sk-container-id-2 div.sk-toggleable__content pre {margin: 0.2em;color: black;border-radius: 0.25em;background-color: #f0f8ff;}#sk-container-id-2 input.sk-toggleable__control:checked~div.sk-toggleable__content {max-height: 200px;max-width: 100%;overflow: auto;}#sk-container-id-2 input.sk-toggleable__control:checked~label.sk-toggleable__label-arrow:before {content: \"▾\";}#sk-container-id-2 div.sk-estimator input.sk-toggleable__control:checked~label.sk-toggleable__label {background-color: #d4ebff;}#sk-container-id-2 div.sk-label input.sk-toggleable__control:checked~label.sk-toggleable__label {background-color: #d4ebff;}#sk-container-id-2 input.sk-hidden--visually {border: 0;clip: rect(1px 1px 1px 1px);clip: rect(1px, 1px, 1px, 1px);height: 1px;margin: -1px;overflow: hidden;padding: 0;position: absolute;width: 1px;}#sk-container-id-2 div.sk-estimator {font-family: monospace;background-color: #f0f8ff;border: 1px dotted black;border-radius: 0.25em;box-sizing: border-box;margin-bottom: 0.5em;}#sk-container-id-2 div.sk-estimator:hover {background-color: #d4ebff;}#sk-container-id-2 div.sk-parallel-item::after {content: \"\";width: 100%;border-bottom: 1px solid gray;flex-grow: 1;}#sk-container-id-2 div.sk-label:hover label.sk-toggleable__label {background-color: #d4ebff;}#sk-container-id-2 div.sk-serial::before {content: \"\";position: absolute;border-left: 1px solid gray;box-sizing: border-box;top: 0;bottom: 0;left: 50%;z-index: 0;}#sk-container-id-2 div.sk-serial {display: flex;flex-direction: column;align-items: center;background-color: white;padding-right: 0.2em;padding-left: 0.2em;position: relative;}#sk-container-id-2 div.sk-item {position: relative;z-index: 1;}#sk-container-id-2 div.sk-parallel {display: flex;align-items: stretch;justify-content: center;background-color: white;position: relative;}#sk-container-id-2 div.sk-item::before, #sk-container-id-2 div.sk-parallel-item::before {content: \"\";position: absolute;border-left: 1px solid gray;box-sizing: border-box;top: 0;bottom: 0;left: 50%;z-index: -1;}#sk-container-id-2 div.sk-parallel-item {display: flex;flex-direction: column;z-index: 1;position: relative;background-color: white;}#sk-container-id-2 div.sk-parallel-item:first-child::after {align-self: flex-end;width: 50%;}#sk-container-id-2 div.sk-parallel-item:last-child::after {align-self: flex-start;width: 50%;}#sk-container-id-2 div.sk-parallel-item:only-child::after {width: 0;}#sk-container-id-2 div.sk-dashed-wrapped {border: 1px dashed gray;margin: 0 0.4em 0.5em 0.4em;box-sizing: border-box;padding-bottom: 0.4em;background-color: white;}#sk-container-id-2 div.sk-label label {font-family: monospace;font-weight: bold;display: inline-block;line-height: 1.2em;}#sk-container-id-2 div.sk-label-container {text-align: center;}#sk-container-id-2 div.sk-container {/* jupyter's `normalize.less` sets `[hidden] { display: none; }` but bootstrap.min.css set `[hidden] { display: none !important; }` so we also need the `!important` here to be able to override the default hidden behavior on the sphinx rendered scikit-learn.org. See: https://github.com/scikit-learn/scikit-learn/issues/21755 */display: inline-block !important;position: relative;}#sk-container-id-2 div.sk-text-repr-fallback {display: none;}</style><div id=\"sk-container-id-2\" class=\"sk-top-container\"><div class=\"sk-text-repr-fallback\"><pre>SVC(kernel=&#x27;linear&#x27;, probability=True)</pre><b>In a Jupyter environment, please rerun this cell to show the HTML representation or trust the notebook. <br />On GitHub, the HTML representation is unable to render, please try loading this page with nbviewer.org.</b></div><div class=\"sk-container\" hidden><div class=\"sk-item\"><div class=\"sk-estimator sk-toggleable\"><input class=\"sk-toggleable__control sk-hidden--visually\" id=\"sk-estimator-id-2\" type=\"checkbox\" checked><label for=\"sk-estimator-id-2\" class=\"sk-toggleable__label sk-toggleable__label-arrow\">SVC</label><div class=\"sk-toggleable__content\"><pre>SVC(kernel=&#x27;linear&#x27;, probability=True)</pre></div></div></div></div></div>"
      ],
      "text/plain": [
       "SVC(kernel='linear', probability=True)"
      ]
     },
     "execution_count": 79,
     "metadata": {},
     "output_type": "execute_result"
    }
   ],
   "source": [
    "svm.fit(X_train, y_train)"
   ]
  },
  {
   "cell_type": "code",
   "execution_count": 80,
   "id": "a2f7bb29",
   "metadata": {},
   "outputs": [],
   "source": [
    "y_pred = svm.predict(X_test)"
   ]
  },
  {
   "cell_type": "code",
   "execution_count": 81,
   "id": "f22c27c2",
   "metadata": {},
   "outputs": [
    {
     "name": "stdout",
     "output_type": "stream",
     "text": [
      "0.9954738718968591\n"
     ]
    }
   ],
   "source": [
    "score = accuracy_score(y_test, y_pred)\n",
    "accuracies.update({'Support Vector Machine':score})\n",
    "print(accuracies['Support Vector Machine'])"
   ]
  },
  {
   "attachments": {},
   "cell_type": "markdown",
   "id": "3c7c89fa",
   "metadata": {},
   "source": [
    "#### Creating a confusion matrix"
   ]
  },
  {
   "cell_type": "code",
   "execution_count": 82,
   "id": "0e26aaf6",
   "metadata": {
    "scrolled": true
   },
   "outputs": [
    {
     "data": {
      "image/png": "[encoded data removed]",
      "text/plain": [
       "<Figure size 432x288 with 2 Axes>"
      ]
     },
     "metadata": {
      "needs_background": "light"
     },
     "output_type": "display_data"
    }
   ],
   "source": [
    "# Compute confusion matrix\n",
    "cm = confusion_matrix(y_test, y_pred)\n",
    "tn, fp, fn, tp = cm.ravel()\n",
    "\n",
    "# Plot confusion matrix as heatmap\n",
    "labels = ['Negative', 'Positive']\n",
    "sns.heatmap(cm, annot=True, cmap='Blues', xticklabels=labels, yticklabels=labels, fmt='d')\n",
    "plt.title('Confusion Matrix')\n",
    "plt.xlabel('Predicted Label')\n",
    "plt.ylabel('True Label')\n",
    "plt.show()"
   ]
  },
  {
   "attachments": {},
   "cell_type": "markdown",
   "id": "176084e9",
   "metadata": {},
   "source": [
    "#### Precision-recall Graph\n",
    "#### Precision measuring the accuracy of positive predictions\n",
    "#### Recall measures the completeness of positive predictions"
   ]
  },
  {
   "cell_type": "code",
   "execution_count": 83,
   "id": "66eb23d0",
   "metadata": {},
   "outputs": [
    {
     "name": "stdout",
     "output_type": "stream",
     "text": [
      "Precision:  0.9954738718968591\n",
      "Recall:  1.0\n"
     ]
    },
    {
     "data": {
      "image/png": "[encoded data removed]",
      "text/plain": [
       "<Figure size 432x288 with 1 Axes>"
      ]
     },
     "metadata": {
      "needs_background": "light"
     },
     "output_type": "display_data"
    }
   ],
   "source": [
    "#calculating precision and reall\n",
    "precision = precision_score(y_test, y_pred)\n",
    "recall = recall_score(y_test, y_pred)\n",
    " \n",
    "print('Precision: ',precision)\n",
    "print('Recall: ',recall)\n",
    " \n",
    "#Plotting Precision-Recall Curve\n",
    "disp = PrecisionRecallDisplay.from_predictions(y_test, y_pred)"
   ]
  },
  {
   "attachments": {},
   "cell_type": "markdown",
   "id": "b6284ca8",
   "metadata": {},
   "source": [
    "#### Pairplot"
   ]
  },
  {
   "cell_type": "code",
   "execution_count": 84,
   "id": "b06a055c",
   "metadata": {},
   "outputs": [
    {
     "data": {
      "text/plain": [
       "<seaborn.axisgrid.PairGrid at 0x7fd8e8fe0cd0>"
      ]
     },
     "execution_count": 84,
     "metadata": {},
     "output_type": "execute_result"
    },
    {
     "data": {
      "image/png": "[encoded data removed]",
      "text/plain": [
       "<Figure size 360x360 with 6 Axes>"
      ]
     },
     "metadata": {
      "needs_background": "light"
     },
     "output_type": "display_data"
    }
   ],
   "source": [
    "graph_df = pd.DataFrame({'y_pred': y_pred, 'y_test': y_test})\n",
    "sns.pairplot(graph_df)"
   ]
  },
  {
   "attachments": {},
   "cell_type": "markdown",
   "id": "870f2703",
   "metadata": {},
   "source": [
    "#### Creating a classification report to compare y_test and y_pred"
   ]
  },
  {
   "cell_type": "code",
   "execution_count": 85,
   "id": "25d006aa",
   "metadata": {},
   "outputs": [
    {
     "name": "stdout",
     "output_type": "stream",
     "text": [
      "              precision    recall  f1-score   support\n",
      "\n",
      "         0.0       1.00      0.00      0.00        33\n",
      "         1.0       1.00      1.00      1.00      7258\n",
      "\n",
      "    accuracy                           1.00      7291\n",
      "   macro avg       1.00      0.50      0.50      7291\n",
      "weighted avg       1.00      1.00      0.99      7291\n",
      "\n"
     ]
    }
   ],
   "source": [
    "print(classification_report(y_test, y_pred, zero_division=1))"
   ]
  },
  {
   "attachments": {},
   "cell_type": "markdown",
   "id": "5495af21",
   "metadata": {},
   "source": [
    "#### auc - roc_curve"
   ]
  },
  {
   "cell_type": "code",
   "execution_count": 86,
   "id": "c4a57ef3",
   "metadata": {},
   "outputs": [
    {
     "data": {
      "image/png": "[encoded data removed]",
      "text/plain": [
       "<Figure size 432x288 with 1 Axes>"
      ]
     },
     "metadata": {
      "needs_background": "light"
     },
     "output_type": "display_data"
    }
   ],
   "source": [
    "y_pred = svm.predict_proba(X_test)[:, 1]\n",
    "roc_display = RocCurveDisplay.from_predictions(y_test, y_pred)"
   ]
  },
  {
   "attachments": {},
   "cell_type": "markdown",
   "id": "5e8c47ef",
   "metadata": {},
   "source": [
    "### Random Forest"
   ]
  },
  {
   "cell_type": "code",
   "execution_count": 87,
   "id": "b111caaf",
   "metadata": {},
   "outputs": [],
   "source": [
    "rfc = RandomForestClassifier()"
   ]
  },
  {
   "cell_type": "code",
   "execution_count": 88,
   "id": "1a807b35",
   "metadata": {},
   "outputs": [
    {
     "data": {
      "text/html": [
       "<style>#sk-container-id-3 {color: black;background-color: white;}#sk-container-id-3 pre{padding: 0;}#sk-container-id-3 div.sk-toggleable {background-color: white;}#sk-container-id-3 label.sk-toggleable__label {cursor: pointer;display: block;width: 100%;margin-bottom: 0;padding: 0.3em;box-sizing: border-box;text-align: center;}#sk-container-id-3 label.sk-toggleable__label-arrow:before {content: \"▸\";float: left;margin-right: 0.25em;color: #696969;}#sk-container-id-3 label.sk-toggleable__label-arrow:hover:before {color: black;}#sk-container-id-3 div.sk-estimator:hover label.sk-toggleable__label-arrow:before {color: black;}#sk-container-id-3 div.sk-toggleable__content {max-height: 0;max-width: 0;overflow: hidden;text-align: left;background-color: #f0f8ff;}#sk-container-id-3 div.sk-toggleable__content pre {margin: 0.2em;color: black;border-radius: 0.25em;background-color: #f0f8ff;}#sk-container-id-3 input.sk-toggleable__control:checked~div.sk-toggleable__content {max-height: 200px;max-width: 100%;overflow: auto;}#sk-container-id-3 input.sk-toggleable__control:checked~label.sk-toggleable__label-arrow:before {content: \"▾\";}#sk-container-id-3 div.sk-estimator input.sk-toggleable__control:checked~label.sk-toggleable__label {background-color: #d4ebff;}#sk-container-id-3 div.sk-label input.sk-toggleable__control:checked~label.sk-toggleable__label {background-color: #d4ebff;}#sk-container-id-3 input.sk-hidden--visually {border: 0;clip: rect(1px 1px 1px 1px);clip: rect(1px, 1px, 1px, 1px);height: 1px;margin: -1px;overflow: hidden;padding: 0;position: absolute;width: 1px;}#sk-container-id-3 div.sk-estimator {font-family: monospace;background-color: #f0f8ff;border: 1px dotted black;border-radius: 0.25em;box-sizing: border-box;margin-bottom: 0.5em;}#sk-container-id-3 div.sk-estimator:hover {background-color: #d4ebff;}#sk-container-id-3 div.sk-parallel-item::after {content: \"\";width: 100%;border-bottom: 1px solid gray;flex-grow: 1;}#sk-container-id-3 div.sk-label:hover label.sk-toggleable__label {background-color: #d4ebff;}#sk-container-id-3 div.sk-serial::before {content: \"\";position: absolute;border-left: 1px solid gray;box-sizing: border-box;top: 0;bottom: 0;left: 50%;z-index: 0;}#sk-container-id-3 div.sk-serial {display: flex;flex-direction: column;align-items: center;background-color: white;padding-right: 0.2em;padding-left: 0.2em;position: relative;}#sk-container-id-3 div.sk-item {position: relative;z-index: 1;}#sk-container-id-3 div.sk-parallel {display: flex;align-items: stretch;justify-content: center;background-color: white;position: relative;}#sk-container-id-3 div.sk-item::before, #sk-container-id-3 div.sk-parallel-item::before {content: \"\";position: absolute;border-left: 1px solid gray;box-sizing: border-box;top: 0;bottom: 0;left: 50%;z-index: -1;}#sk-container-id-3 div.sk-parallel-item {display: flex;flex-direction: column;z-index: 1;position: relative;background-color: white;}#sk-container-id-3 div.sk-parallel-item:first-child::after {align-self: flex-end;width: 50%;}#sk-container-id-3 div.sk-parallel-item:last-child::after {align-self: flex-start;width: 50%;}#sk-container-id-3 div.sk-parallel-item:only-child::after {width: 0;}#sk-container-id-3 div.sk-dashed-wrapped {border: 1px dashed gray;margin: 0 0.4em 0.5em 0.4em;box-sizing: border-box;padding-bottom: 0.4em;background-color: white;}#sk-container-id-3 div.sk-label label {font-family: monospace;font-weight: bold;display: inline-block;line-height: 1.2em;}#sk-container-id-3 div.sk-label-container {text-align: center;}#sk-container-id-3 div.sk-container {/* jupyter's `normalize.less` sets `[hidden] { display: none; }` but bootstrap.min.css set `[hidden] { display: none !important; }` so we also need the `!important` here to be able to override the default hidden behavior on the sphinx rendered scikit-learn.org. See: https://github.com/scikit-learn/scikit-learn/issues/21755 */display: inline-block !important;position: relative;}#sk-container-id-3 div.sk-text-repr-fallback {display: none;}</style><div id=\"sk-container-id-3\" class=\"sk-top-container\"><div class=\"sk-text-repr-fallback\"><pre>RandomForestClassifier()</pre><b>In a Jupyter environment, please rerun this cell to show the HTML representation or trust the notebook. <br />On GitHub, the HTML representation is unable to render, please try loading this page with nbviewer.org.</b></div><div class=\"sk-container\" hidden><div class=\"sk-item\"><div class=\"sk-estimator sk-toggleable\"><input class=\"sk-toggleable__control sk-hidden--visually\" id=\"sk-estimator-id-3\" type=\"checkbox\" checked><label for=\"sk-estimator-id-3\" class=\"sk-toggleable__label sk-toggleable__label-arrow\">RandomForestClassifier</label><div class=\"sk-toggleable__content\"><pre>RandomForestClassifier()</pre></div></div></div></div></div>"
      ],
      "text/plain": [
       "RandomForestClassifier()"
      ]
     },
     "execution_count": 88,
     "metadata": {},
     "output_type": "execute_result"
    }
   ],
   "source": [
    "rfc.fit(X_train, y_train)"
   ]
  },
  {
   "cell_type": "code",
   "execution_count": 89,
   "id": "5efa5c3f",
   "metadata": {},
   "outputs": [],
   "source": [
    "y_pred = rfc.predict(X_test)"
   ]
  },
  {
   "cell_type": "code",
   "execution_count": 90,
   "id": "2292849f",
   "metadata": {},
   "outputs": [
    {
     "name": "stdout",
     "output_type": "stream",
     "text": [
      "0.9942394733232752\n"
     ]
    }
   ],
   "source": [
    "score = accuracy_score(y_test, y_pred)\n",
    "accuracies.update({'RandomForestClassifier':score})\n",
    "print(accuracies['RandomForestClassifier'])"
   ]
  },
  {
   "attachments": {},
   "cell_type": "markdown",
   "id": "fc4499e2",
   "metadata": {},
   "source": [
    "#### Creating a confusion matrix"
   ]
  },
  {
   "cell_type": "code",
   "execution_count": 91,
   "id": "43425fba",
   "metadata": {},
   "outputs": [
    {
     "data": {
      "image/png": "[encoded data removed]",
      "text/plain": [
       "<Figure size 432x288 with 2 Axes>"
      ]
     },
     "metadata": {
      "needs_background": "light"
     },
     "output_type": "display_data"
    }
   ],
   "source": [
    "# Compute confusion matrix\n",
    "cm = confusion_matrix(y_test, y_pred)\n",
    "tn, fp, fn, tp = cm.ravel()\n",
    "\n",
    "# Plot confusion matrix as heatmap\n",
    "labels = ['Negative', 'Positive']\n",
    "sns.heatmap(cm, annot=True, cmap='Blues', xticklabels=labels, yticklabels=labels, fmt='d')\n",
    "plt.title('Confusion Matrix')\n",
    "plt.xlabel('Predicted Label')\n",
    "plt.ylabel('True Label')\n",
    "plt.show()"
   ]
  },
  {
   "attachments": {},
   "cell_type": "markdown",
   "id": "b7a20f30",
   "metadata": {},
   "source": [
    "#### Precision-recall Graph\n",
    "#### Precision measuring the accuracy of positive predictions\n",
    "#### Recall measures the completeness of positive predictions"
   ]
  },
  {
   "cell_type": "code",
   "execution_count": 92,
   "id": "916e6cbd",
   "metadata": {},
   "outputs": [
    {
     "name": "stdout",
     "output_type": "stream",
     "text": [
      "Precision:  0.9962861072902338\n",
      "Recall:  0.9979333149627997\n"
     ]
    },
    {
     "data": {
      "image/png": "[encoded data removed]",
      "text/plain": [
       "<Figure size 432x288 with 1 Axes>"
      ]
     },
     "metadata": {
      "needs_background": "light"
     },
     "output_type": "display_data"
    }
   ],
   "source": [
    "#calculating precision and reall\n",
    "precision = precision_score(y_test, y_pred)\n",
    "recall = recall_score(y_test, y_pred)\n",
    " \n",
    "print('Precision: ',precision)\n",
    "print('Recall: ',recall)\n",
    " \n",
    "#Plotting Precision-Recall Curve\n",
    "disp = PrecisionRecallDisplay.from_predictions(y_test, y_pred)"
   ]
  },
  {
   "attachments": {},
   "cell_type": "markdown",
   "id": "54d703aa",
   "metadata": {},
   "source": [
    "#### Pairplot"
   ]
  },
  {
   "cell_type": "code",
   "execution_count": 93,
   "id": "913a5e62",
   "metadata": {},
   "outputs": [
    {
     "data": {
      "text/plain": [
       "<seaborn.axisgrid.PairGrid at 0x7fd8c8bb3f40>"
      ]
     },
     "execution_count": 93,
     "metadata": {},
     "output_type": "execute_result"
    },
    {
     "data": {
      "image/png": "[encoded data removed]",
      "text/plain": [
       "<Figure size 360x360 with 6 Axes>"
      ]
     },
     "metadata": {
      "needs_background": "light"
     },
     "output_type": "display_data"
    }
   ],
   "source": [
    "\n",
    "graph_df = pd.DataFrame({'y_pred': y_pred, 'y_test': y_test})\n",
    "sns.pairplot(graph_df)"
   ]
  },
  {
   "attachments": {},
   "cell_type": "markdown",
   "id": "66223f1b",
   "metadata": {},
   "source": [
    "#### Creating a classification report to compare y_test and y_pred"
   ]
  },
  {
   "cell_type": "code",
   "execution_count": 94,
   "id": "43678d60",
   "metadata": {
    "scrolled": true
   },
   "outputs": [
    {
     "name": "stdout",
     "output_type": "stream",
     "text": [
      "              precision    recall  f1-score   support\n",
      "\n",
      "         0.0       0.29      0.18      0.22        33\n",
      "         1.0       1.00      1.00      1.00      7258\n",
      "\n",
      "    accuracy                           0.99      7291\n",
      "   macro avg       0.64      0.59      0.61      7291\n",
      "weighted avg       0.99      0.99      0.99      7291\n",
      "\n"
     ]
    }
   ],
   "source": [
    "print(classification_report(y_test, y_pred, zero_division=1))"
   ]
  },
  {
   "attachments": {},
   "cell_type": "markdown",
   "id": "2eea6669",
   "metadata": {},
   "source": [
    "#### auc - roc_curve"
   ]
  },
  {
   "cell_type": "code",
   "execution_count": 95,
   "id": "7b1bd38b",
   "metadata": {},
   "outputs": [
    {
     "data": {
      "image/png": "[encoded data removed]",
      "text/plain": [
       "<Figure size 432x288 with 1 Axes>"
      ]
     },
     "metadata": {
      "needs_background": "light"
     },
     "output_type": "display_data"
    }
   ],
   "source": [
    "y_pred = rfc.predict_proba(X_test)[:, 1]\n",
    "roc_display = RocCurveDisplay.from_predictions(y_test, y_pred)"
   ]
  },
  {
   "attachments": {},
   "cell_type": "markdown",
   "id": "5a9371ca",
   "metadata": {},
   "source": [
    "### Gradient Boosting Machines (GBM)"
   ]
  },
  {
   "cell_type": "code",
   "execution_count": 96,
   "id": "8a093367",
   "metadata": {},
   "outputs": [],
   "source": [
    "gb = GradientBoostingClassifier()"
   ]
  },
  {
   "cell_type": "code",
   "execution_count": 97,
   "id": "9a89896b",
   "metadata": {},
   "outputs": [
    {
     "data": {
      "text/html": [
       "<style>#sk-container-id-4 {color: black;background-color: white;}#sk-container-id-4 pre{padding: 0;}#sk-container-id-4 div.sk-toggleable {background-color: white;}#sk-container-id-4 label.sk-toggleable__label {cursor: pointer;display: block;width: 100%;margin-bottom: 0;padding: 0.3em;box-sizing: border-box;text-align: center;}#sk-container-id-4 label.sk-toggleable__label-arrow:before {content: \"▸\";float: left;margin-right: 0.25em;color: #696969;}#sk-container-id-4 label.sk-toggleable__label-arrow:hover:before {color: black;}#sk-container-id-4 div.sk-estimator:hover label.sk-toggleable__label-arrow:before {color: black;}#sk-container-id-4 div.sk-toggleable__content {max-height: 0;max-width: 0;overflow: hidden;text-align: left;background-color: #f0f8ff;}#sk-container-id-4 div.sk-toggleable__content pre {margin: 0.2em;color: black;border-radius: 0.25em;background-color: #f0f8ff;}#sk-container-id-4 input.sk-toggleable__control:checked~div.sk-toggleable__content {max-height: 200px;max-width: 100%;overflow: auto;}#sk-container-id-4 input.sk-toggleable__control:checked~label.sk-toggleable__label-arrow:before {content: \"▾\";}#sk-container-id-4 div.sk-estimator input.sk-toggleable__control:checked~label.sk-toggleable__label {background-color: #d4ebff;}#sk-container-id-4 div.sk-label input.sk-toggleable__control:checked~label.sk-toggleable__label {background-color: #d4ebff;}#sk-container-id-4 input.sk-hidden--visually {border: 0;clip: rect(1px 1px 1px 1px);clip: rect(1px, 1px, 1px, 1px);height: 1px;margin: -1px;overflow: hidden;padding: 0;position: absolute;width: 1px;}#sk-container-id-4 div.sk-estimator {font-family: monospace;background-color: #f0f8ff;border: 1px dotted black;border-radius: 0.25em;box-sizing: border-box;margin-bottom: 0.5em;}#sk-container-id-4 div.sk-estimator:hover {background-color: #d4ebff;}#sk-container-id-4 div.sk-parallel-item::after {content: \"\";width: 100%;border-bottom: 1px solid gray;flex-grow: 1;}#sk-container-id-4 div.sk-label:hover label.sk-toggleable__label {background-color: #d4ebff;}#sk-container-id-4 div.sk-serial::before {content: \"\";position: absolute;border-left: 1px solid gray;box-sizing: border-box;top: 0;bottom: 0;left: 50%;z-index: 0;}#sk-container-id-4 div.sk-serial {display: flex;flex-direction: column;align-items: center;background-color: white;padding-right: 0.2em;padding-left: 0.2em;position: relative;}#sk-container-id-4 div.sk-item {position: relative;z-index: 1;}#sk-container-id-4 div.sk-parallel {display: flex;align-items: stretch;justify-content: center;background-color: white;position: relative;}#sk-container-id-4 div.sk-item::before, #sk-container-id-4 div.sk-parallel-item::before {content: \"\";position: absolute;border-left: 1px solid gray;box-sizing: border-box;top: 0;bottom: 0;left: 50%;z-index: -1;}#sk-container-id-4 div.sk-parallel-item {display: flex;flex-direction: column;z-index: 1;position: relative;background-color: white;}#sk-container-id-4 div.sk-parallel-item:first-child::after {align-self: flex-end;width: 50%;}#sk-container-id-4 div.sk-parallel-item:last-child::after {align-self: flex-start;width: 50%;}#sk-container-id-4 div.sk-parallel-item:only-child::after {width: 0;}#sk-container-id-4 div.sk-dashed-wrapped {border: 1px dashed gray;margin: 0 0.4em 0.5em 0.4em;box-sizing: border-box;padding-bottom: 0.4em;background-color: white;}#sk-container-id-4 div.sk-label label {font-family: monospace;font-weight: bold;display: inline-block;line-height: 1.2em;}#sk-container-id-4 div.sk-label-container {text-align: center;}#sk-container-id-4 div.sk-container {/* jupyter's `normalize.less` sets `[hidden] { display: none; }` but bootstrap.min.css set `[hidden] { display: none !important; }` so we also need the `!important` here to be able to override the default hidden behavior on the sphinx rendered scikit-learn.org. See: https://github.com/scikit-learn/scikit-learn/issues/21755 */display: inline-block !important;position: relative;}#sk-container-id-4 div.sk-text-repr-fallback {display: none;}</style><div id=\"sk-container-id-4\" class=\"sk-top-container\"><div class=\"sk-text-repr-fallback\"><pre>GradientBoostingClassifier()</pre><b>In a Jupyter environment, please rerun this cell to show the HTML representation or trust the notebook. <br />On GitHub, the HTML representation is unable to render, please try loading this page with nbviewer.org.</b></div><div class=\"sk-container\" hidden><div class=\"sk-item\"><div class=\"sk-estimator sk-toggleable\"><input class=\"sk-toggleable__control sk-hidden--visually\" id=\"sk-estimator-id-4\" type=\"checkbox\" checked><label for=\"sk-estimator-id-4\" class=\"sk-toggleable__label sk-toggleable__label-arrow\">GradientBoostingClassifier</label><div class=\"sk-toggleable__content\"><pre>GradientBoostingClassifier()</pre></div></div></div></div></div>"
      ],
      "text/plain": [
       "GradientBoostingClassifier()"
      ]
     },
     "execution_count": 97,
     "metadata": {},
     "output_type": "execute_result"
    }
   ],
   "source": [
    "gb.fit(X_train, y_train)"
   ]
  },
  {
   "cell_type": "code",
   "execution_count": 98,
   "id": "20ddd3d2",
   "metadata": {},
   "outputs": [],
   "source": [
    "y_pred = gb.predict(X_test)"
   ]
  },
  {
   "cell_type": "code",
   "execution_count": 99,
   "id": "d5f297cc",
   "metadata": {},
   "outputs": [
    {
     "name": "stdout",
     "output_type": "stream",
     "text": [
      "0.994513784117405\n"
     ]
    }
   ],
   "source": [
    "score = accuracy_score(y_test, y_pred)\n",
    "accuracies.update({'Gradient Boosting Machine':score})\n",
    "print(accuracies['Gradient Boosting Machine'])"
   ]
  },
  {
   "attachments": {},
   "cell_type": "markdown",
   "id": "419a304f",
   "metadata": {},
   "source": [
    "#### Creating a confusion matrix"
   ]
  },
  {
   "cell_type": "code",
   "execution_count": 100,
   "id": "6813d036",
   "metadata": {},
   "outputs": [
    {
     "data": {
      "image/png": "[encoded data removed]",
      "text/plain": [
       "<Figure size 432x288 with 2 Axes>"
      ]
     },
     "metadata": {
      "needs_background": "light"
     },
     "output_type": "display_data"
    }
   ],
   "source": [
    "# Compute confusion matrix\n",
    "cm = confusion_matrix(y_test, y_pred)\n",
    "tn, fp, fn, tp = cm.ravel()\n",
    "\n",
    "# Plot confusion matrix as heatmap\n",
    "labels = ['Negative', 'Positive']\n",
    "sns.heatmap(cm, annot=True, cmap='Blues', xticklabels=labels, yticklabels=labels, fmt='d')\n",
    "plt.title('Confusion Matrix')\n",
    "plt.xlabel('Predicted Label')\n",
    "plt.ylabel('True Label')\n",
    "plt.show()"
   ]
  },
  {
   "attachments": {},
   "cell_type": "markdown",
   "id": "73b2fa1a",
   "metadata": {},
   "source": [
    "#### Precision-recall Graph\n",
    "#### Precision measuring the accuracy of positive predictions\n",
    "#### Recall measures the completeness of positive predictions"
   ]
  },
  {
   "cell_type": "code",
   "execution_count": 101,
   "id": "135ebefa",
   "metadata": {},
   "outputs": [
    {
     "name": "stdout",
     "output_type": "stream",
     "text": [
      "Precision:  0.9968337004405287\n",
      "Recall:  0.9976577569578396\n"
     ]
    },
    {
     "data": {
      "image/png": "[encoded data removed]",
      "text/plain": [
       "<Figure size 432x288 with 1 Axes>"
      ]
     },
     "metadata": {
      "needs_background": "light"
     },
     "output_type": "display_data"
    }
   ],
   "source": [
    "#calculating precision and reall\n",
    "precision = precision_score(y_test, y_pred)\n",
    "recall = recall_score(y_test, y_pred)\n",
    " \n",
    "print('Precision: ',precision)\n",
    "print('Recall: ',recall)\n",
    " \n",
    "#Plotting Precision-Recall Curve\n",
    "disp = PrecisionRecallDisplay.from_predictions(y_test, y_pred)"
   ]
  },
  {
   "attachments": {},
   "cell_type": "markdown",
   "id": "1906c92b",
   "metadata": {},
   "source": [
    "#### Pairplot"
   ]
  },
  {
   "cell_type": "code",
   "execution_count": 102,
   "id": "453dffa7",
   "metadata": {},
   "outputs": [
    {
     "data": {
      "text/plain": [
       "<seaborn.axisgrid.PairGrid at 0x7fd8e852ea30>"
      ]
     },
     "execution_count": 102,
     "metadata": {},
     "output_type": "execute_result"
    },
    {
     "data": {
      "image/png": "[encoded data removed]",
      "text/plain": [
       "<Figure size 360x360 with 6 Axes>"
      ]
     },
     "metadata": {
      "needs_background": "light"
     },
     "output_type": "display_data"
    }
   ],
   "source": [
    "graph_df = pd.DataFrame({'y_pred': y_pred, 'y_test': y_test})\n",
    "sns.pairplot(graph_df)"
   ]
  },
  {
   "attachments": {},
   "cell_type": "markdown",
   "id": "82ac1377",
   "metadata": {},
   "source": [
    "#### Creating a classification report to compare y_test and y_pred"
   ]
  },
  {
   "cell_type": "code",
   "execution_count": 103,
   "id": "f3af2705",
   "metadata": {
    "scrolled": true
   },
   "outputs": [
    {
     "name": "stdout",
     "output_type": "stream",
     "text": [
      "              precision    recall  f1-score   support\n",
      "\n",
      "         0.0       0.37      0.30      0.33        33\n",
      "         1.0       1.00      1.00      1.00      7258\n",
      "\n",
      "    accuracy                           0.99      7291\n",
      "   macro avg       0.68      0.65      0.67      7291\n",
      "weighted avg       0.99      0.99      0.99      7291\n",
      "\n"
     ]
    }
   ],
   "source": [
    "print(classification_report(y_test, y_pred, zero_division=1))"
   ]
  },
  {
   "attachments": {},
   "cell_type": "markdown",
   "id": "3f6a8a3a",
   "metadata": {},
   "source": [
    "#### auc - roc_curve "
   ]
  },
  {
   "cell_type": "code",
   "execution_count": 104,
   "id": "02a3589c",
   "metadata": {},
   "outputs": [
    {
     "data": {
      "image/png": "[encoded data removed]",
      "text/plain": [
       "<Figure size 432x288 with 1 Axes>"
      ]
     },
     "metadata": {
      "needs_background": "light"
     },
     "output_type": "display_data"
    }
   ],
   "source": [
    "y_pred = gb.predict_proba(X_test)[:, 1]\n",
    "roc_display = RocCurveDisplay.from_predictions(y_test, y_pred)"
   ]
  },
  {
   "cell_type": "code",
   "execution_count": 105,
   "id": "e74b95a8",
   "metadata": {},
   "outputs": [
    {
     "data": {
      "text/plain": [
       "{'Logistic Regression': 0.9954738718968591,\n",
       " 'DecisionTreeClassifier': 0.9930050747496914,\n",
       " 'Support Vector Machine': 0.9954738718968591,\n",
       " 'RandomForestClassifier': 0.9942394733232752,\n",
       " 'Gradient Boosting Machine': 0.994513784117405}"
      ]
     },
     "execution_count": 105,
     "metadata": {},
     "output_type": "execute_result"
    }
   ],
   "source": [
    "accuracies"
   ]
  }
 ],
 "metadata": {
  "kernelspec": {
   "display_name": "Python 3 (ipykernel)",
   "language": "python",
   "name": "python3"
  },
  "language_info": {
   "codemirror_mode": {
    "name": "ipython",
    "version": 3
   },
   "file_extension": ".py",
   "mimetype": "text/x-python",
   "name": "python",
   "nbconvert_exporter": "python",
   "pygments_lexer": "ipython3",
   "version": "3.9.12"
  }
 },
 "nbformat": 4,
 "nbformat_minor": 5
}
